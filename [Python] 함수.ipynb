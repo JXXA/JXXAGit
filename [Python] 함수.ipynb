{
 "cells": [
  {
   "cell_type": "markdown",
   "metadata": {},
   "source": [
    "## 01. 함수의 정의"
   ]
  },
  {
   "cell_type": "code",
   "execution_count": 2,
   "metadata": {},
   "outputs": [
    {
     "data": {
      "text/plain": [
       "7"
      ]
     },
     "execution_count": 2,
     "metadata": {},
     "output_type": "execute_result"
    }
   ],
   "source": [
    "def add(a, b, c=4):\n",
    "    return a + b + c\n",
    "\n",
    "add (1, 2)"
   ]
  },
  {
   "cell_type": "markdown",
   "metadata": {},
   "source": [
    "#### Parameter\n",
    "* Default Parameter (단, **Default Parameter 뒤에 일반 변수가 올 수 없음**)\n",
    "* KeyWord Parameter (함수 호출 시, **파라미터 이름 명시하여 전달 가능**)"
   ]
  },
  {
   "cell_type": "code",
   "execution_count": 7,
   "metadata": {},
   "outputs": [
    {
     "name": "stdout",
     "output_type": "stream",
     "text": [
      "4 5\n"
     ]
    }
   ],
   "source": [
    "## 아래와 같이 Default 뒤에는 일반 값이 올수 없다.\n",
    "# [NOT_OK] def test(a=1, b, c)\n",
    "# [OK] def test (a, b, c=1)\n",
    "\n",
    "def test (a, b=2, c=1): \n",
    "    return a+b+c\n",
    "\n",
    "# Default\n",
    "_sum1 = test(1) # 1+2+1 = 4\n",
    "\n",
    "## Keyword\n",
    "_sum2 = test(b=3, a=1) # 1+3+1 = 5\n",
    "\n",
    "print(_sum1, _sum2)"
   ]
  },
  {
   "cell_type": "markdown",
   "metadata": {},
   "source": [
    "#### Muiti Return\n",
    "* Tuple을 이용한 복수값 반환"
   ]
  },
  {
   "cell_type": "code",
   "execution_count": 11,
   "metadata": {},
   "outputs": [
    {
     "name": "stdout",
     "output_type": "stream",
     "text": [
      "<class 'tuple'> (3, 2)\n",
      "5 6\n"
     ]
    }
   ],
   "source": [
    "def add_mul (x, y):\n",
    "    s = x + y\n",
    "    m = x * y\n",
    "    \n",
    "    return s, m\n",
    "\n",
    "a = add_mul(1, 2)\n",
    "print(type(a), a)\n",
    "\n",
    "# Unpacking \n",
    "b,c = add_mul(2,3)\n",
    "print(b, c)"
   ]
  },
  {
   "cell_type": "markdown",
   "metadata": {},
   "source": [
    "#### 변수 Scope\n",
    "* 지역변수, 전역변수"
   ]
  },
  {
   "cell_type": "code",
   "execution_count": 13,
   "metadata": {},
   "outputs": [
    {
     "name": "stdout",
     "output_type": "stream",
     "text": [
      "30 40\n",
      "10 30\n"
     ]
    }
   ],
   "source": [
    "num1 = 10\n",
    "num2 = 30\n",
    "\n",
    "def test (num1, num2):\n",
    "    print(num1, num2) # 지역 변수\n",
    "    return num1 + num2\n",
    "\n",
    "test(30, 40)\n",
    "print(num1, num2)"
   ]
  },
  {
   "cell_type": "markdown",
   "metadata": {},
   "source": [
    "## 02. Argument variable length (동적 인자)\n",
    "\n",
    "* 전달 되는 Parameter 개수가 **고정적이지 않은 경우** 사용 \n",
    "\n",
    "> \\*args : 파라미터를 **Tuple 형태**로 전달\n",
    "\n",
    "> \\*\\*kwargs : 파라미터를 **Dict 형태**로 전달 (Named Parameter)"
   ]
  },
  {
   "cell_type": "code",
   "execution_count": 26,
   "metadata": {},
   "outputs": [
    {
     "name": "stdout",
     "output_type": "stream",
     "text": [
      "10\n",
      "20\n",
      "30\n",
      "40\n",
      "name Bob\n",
      "age 60\n"
     ]
    }
   ],
   "source": [
    "# 1) agrs\n",
    "\n",
    "def test(*args): # 관례적으로 가변길이 변수명은 args로 한다.\n",
    "    #print(type(args)) ## <class 'tuple'>\n",
    "    for item in args:\n",
    "        print(item)\n",
    "    \n",
    "test(10, 20, 30, 40)\n",
    "\n",
    "# 2) kwargs\n",
    "\n",
    "def test2(**kwargs):\n",
    "    #print(type(kwargs)) # <class 'dict'>\n",
    "    for key, value in kwargs.items():\n",
    "        print(key, value)\n",
    "    \n",
    "test2(name = \"Bob\", age = 60)"
   ]
  },
  {
   "cell_type": "markdown",
   "metadata": {},
   "source": [
    "#### 문자열 포맷 함수\n",
    "* 가변 길이 함수의 대표적인 예시\n",
    "* {} 안에 **변수명을 기입**할 경우, **Keyword Parameter**로 전달 가능"
   ]
  },
  {
   "cell_type": "code",
   "execution_count": 32,
   "metadata": {},
   "outputs": [
    {
     "name": "stdout",
     "output_type": "stream",
     "text": [
      "오늘 온도는 32도이며, 강수확률은 20% 입니다.\n"
     ]
    }
   ],
   "source": [
    "a = \"오늘 온도는 {temp}도이며, 강수확률은 {rain}% 입니다.\".format(rain=20, temp=32)\n",
    "print(a)"
   ]
  }
 ],
 "metadata": {
  "kernelspec": {
   "display_name": "Python 3",
   "language": "python",
   "name": "python3"
  },
  "language_info": {
   "codemirror_mode": {
    "name": "ipython",
    "version": 3
   },
   "file_extension": ".py",
   "mimetype": "text/x-python",
   "name": "python",
   "nbconvert_exporter": "python",
   "pygments_lexer": "ipython3",
   "version": "3.7.3"
  }
 },
 "nbformat": 4,
 "nbformat_minor": 2
}
