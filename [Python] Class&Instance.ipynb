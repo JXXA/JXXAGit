{
 "cells": [
  {
   "cell_type": "markdown",
   "metadata": {},
   "source": [
    "## 01. Class와 Object\n",
    "* Class : 속성(attribute)과 동작(method)를 갖는 데이터 타입"
   ]
  },
  {
   "cell_type": "code",
   "execution_count": 33,
   "metadata": {},
   "outputs": [
    {
     "name": "stdout",
     "output_type": "stream",
     "text": [
      "<class '__main__.Person'>\n"
     ]
    }
   ],
   "source": [
    "## 기본 Clasee 구현\n",
    "\n",
    "class Person:\n",
    "    pass # 추상적 구현을 위해 명시\n",
    "\n",
    "bob = Person()\n",
    "print(type(bob)) # <class '__main__.Person'>"
   ]
  },
  {
   "cell_type": "markdown",
   "metadata": {},
   "source": [
    "#### 1) 생성자 ( \\_\\_init\\_\\_ )\n",
    "* 클래스 Instane가 생성될 때 호출 됨\n",
    "* 생성자에서는 **해당 클래스가 다루는 데이터**를 **정의**\n",
    "    * 이 데이터를 **멤버 변수** 또는 **속성** 이라고 함 \n",
    "    \n",
    "#### 2) self \n",
    "* self 인자는 항상 첫번째로 오며, 자기 자신을 가리킴\n",
    "* 현재 메소드가 호출 되는 객체 자신을 가리킴 -> **Java의 this**에 해당"
   ]
  },
  {
   "cell_type": "code",
   "execution_count": 5,
   "metadata": {},
   "outputs": [
    {
     "name": "stdout",
     "output_type": "stream",
     "text": [
      "aaron 20\n"
     ]
    }
   ],
   "source": [
    "class Person:\n",
    "    def __init__ (self):\n",
    "        #print(self, ' is generated')\n",
    "        self.name = 'Kate' \n",
    "        self.age = 10\n",
    "        \n",
    "p1 = Person() # <__main__.Person object at 0x0000019770AC0B70>  is generated\n",
    "p1.name = 'aaron'\n",
    "p1.age = 20\n",
    "\n",
    "print(p1.name, p1.age) #aaron 20"
   ]
  },
  {
   "cell_type": "code",
   "execution_count": 10,
   "metadata": {},
   "outputs": [
    {
     "name": "stdout",
     "output_type": "stream",
     "text": [
      "Bob 30\n"
     ]
    }
   ],
   "source": [
    "## 동적 할당 \n",
    "class Person:\n",
    "    # 함수와 동일하기에 Default Parameter를 가질 수 있다!\n",
    "    def __init__ (self, name, age=10):\n",
    "        #print(self, ' is generated')\n",
    "        self.name = name\n",
    "        self.age = age\n",
    "        \n",
    "p1 = Person('Bob', 30)\n",
    "print(p1.name, p1.age)"
   ]
  },
  {
   "cell_type": "markdown",
   "metadata": {},
   "source": [
    "## 02. Method \n",
    "* 멤버 함수라고도 하며, 해당 Class의 Object에서만 호출 가능\n",
    "* {object}.{method}() 형태로 호출\n"
   ]
  },
  {
   "cell_type": "markdown",
   "metadata": {},
   "source": [
    "#### 1) Instance Method \n",
    "* 객체로 호출 -> **생성자로 인한 객체 생성** 후, 사용"
   ]
  },
  {
   "cell_type": "code",
   "execution_count": 28,
   "metadata": {},
   "outputs": [
    {
     "name": "stdout",
     "output_type": "stream",
     "text": [
      "현재값 0\n",
      "현재값 1\n"
     ]
    },
    {
     "data": {
      "text/plain": [
       "1"
      ]
     },
     "execution_count": 28,
     "metadata": {},
     "output_type": "execute_result"
    }
   ],
   "source": [
    "## 1) Instance Method 생성 예제 (객체로 호출)\n",
    "\n",
    "class Counter:\n",
    "    def __init__(self):\n",
    "        self.num = 0\n",
    "        \n",
    "    def print_current_val (self):\n",
    "        print('현재값', self.num)\n",
    "        \n",
    "    def increment(self):\n",
    "        self.num += 1\n",
    "        \n",
    "    def reset(self):\n",
    "        self.num = 0\n",
    "        \n",
    "c1 = Counter() # Counter 생성자를 가진 c1 객체\n",
    "\n",
    "c1.print_current_val() # 현재값 0\n",
    "c1.print_current_val() # 현재값 1\n",
    "c1.num # 1\n",
    "\n",
    "#a = c1.increment() # None -> 함수 안의 변수에 저장한 것으로 이렇게 하면 안됨"
   ]
  },
  {
   "cell_type": "markdown",
   "metadata": {},
   "source": [
    "####  2) Class Method(**static** method) \n",
    "* Class로 호출 -> Static 임으로 **객체 생성 없이 Class로 바로 호출**"
   ]
  },
  {
   "cell_type": "code",
   "execution_count": 32,
   "metadata": {},
   "outputs": [
    {
     "data": {
      "text/plain": [
       "4"
      ]
     },
     "execution_count": 32,
     "metadata": {},
     "output_type": "execute_result"
    }
   ],
   "source": [
    "class Math:\n",
    "    @staticmethod\n",
    "    def add(a, b):\n",
    "        return a + b\n",
    "    @staticmethod\n",
    "    def multiply(a, b):\n",
    "        return a * b\n",
    "\n",
    "# Static으로 인해 객체 생성 X -> Class 단위 호출\n",
    "Math.add(10, 20)\n",
    "Math.multiply(2, 2)"
   ]
  }
 ],
 "metadata": {
  "kernelspec": {
   "display_name": "Python 3",
   "language": "python",
   "name": "python3"
  },
  "language_info": {
   "codemirror_mode": {
    "name": "ipython",
    "version": 3
   },
   "file_extension": ".py",
   "mimetype": "text/x-python",
   "name": "python",
   "nbconvert_exporter": "python",
   "pygments_lexer": "ipython3",
   "version": "3.7.3"
  }
 },
 "nbformat": 4,
 "nbformat_minor": 2
}
