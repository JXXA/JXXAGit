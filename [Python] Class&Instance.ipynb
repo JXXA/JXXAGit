{
 "cells": [
  {
   "cell_type": "markdown",
   "metadata": {},
   "source": [
    "## 01. Class와 Object\n",
    "* Class : 속성(attribute)과 동작(method)를 갖는 데이터 타입"
   ]
  },
  {
   "cell_type": "code",
   "execution_count": 33,
   "metadata": {},
   "outputs": [
    {
     "name": "stdout",
     "output_type": "stream",
     "text": [
      "<class '__main__.Person'>\n"
     ]
    }
   ],
   "source": [
    "## 기본 Clasee 구현\n",
    "\n",
    "class Person:\n",
    "    pass # 추상적 구현을 위해 명시\n",
    "\n",
    "bob = Person()\n",
    "print(type(bob)) # <class '__main__.Person'>"
   ]
  },
  {
   "cell_type": "markdown",
   "metadata": {},
   "source": [
    "#### 1) 생성자 ( \\_\\_init\\_\\_ )\n",
    "* 클래스 Instane가 생성될 때 호출 됨\n",
    "* 생성자에서는 **해당 클래스가 다루는 데이터**를 **정의**\n",
    "    * 이 데이터를 **멤버 변수** 또는 **속성** 이라고 함 \n",
    "    \n",
    "#### 2) self \n",
    "* self 인자는 항상 첫번째로 오며, 자기 자신을 가리킴\n",
    "* 현재 메소드가 호출 되는 객체 자신을 가리킴 -> **Java의 this**에 해당"
   ]
  },
  {
   "cell_type": "code",
   "execution_count": 5,
   "metadata": {},
   "outputs": [
    {
     "name": "stdout",
     "output_type": "stream",
     "text": [
      "aaron 20\n"
     ]
    }
   ],
   "source": [
    "class Person:\n",
    "    def __init__ (self):\n",
    "        #print(self, ' is generated')\n",
    "        self.name = 'Kate' \n",
    "        self.age = 10\n",
    "        \n",
    "p1 = Person() # <__main__.Person object at 0x0000019770AC0B70>  is generated\n",
    "p1.name = 'aaron'\n",
    "p1.age = 20\n",
    "\n",
    "print(p1.name, p1.age) #aaron 20"
   ]
  },
  {
   "cell_type": "code",
   "execution_count": 10,
   "metadata": {},
   "outputs": [
    {
     "name": "stdout",
     "output_type": "stream",
     "text": [
      "Bob 30\n"
     ]
    }
   ],
   "source": [
    "## 동적 할당 \n",
    "class Person:\n",
    "    # 함수와 동일하기에 Default Parameter를 가질 수 있다!\n",
    "    def __init__ (self, name, age=10):\n",
    "        #print(self, ' is generated')\n",
    "        self.name = name\n",
    "        self.age = age\n",
    "        \n",
    "p1 = Person('Bob', 30)\n",
    "print(p1.name, p1.age)"
   ]
  },
  {
   "cell_type": "markdown",
   "metadata": {},
   "source": [
    "## 02. Method \n",
    "* 멤버 함수라고도 하며, 해당 Class의 Object에서만 호출 가능\n",
    "* {object}.{method}() 형태로 호출\n"
   ]
  },
  {
   "cell_type": "markdown",
   "metadata": {},
   "source": [
    "#### 1) Instance Method \n",
    "* 객체로 호출 -> **생성자로 인한 객체 생성** 후, 사용"
   ]
  },
  {
   "cell_type": "code",
   "execution_count": 28,
   "metadata": {},
   "outputs": [
    {
     "name": "stdout",
     "output_type": "stream",
     "text": [
      "현재값 0\n",
      "현재값 1\n"
     ]
    },
    {
     "data": {
      "text/plain": [
       "1"
      ]
     },
     "execution_count": 28,
     "metadata": {},
     "output_type": "execute_result"
    }
   ],
   "source": [
    "## 1) Instance Method 생성 예제 (객체로 호출)\n",
    "\n",
    "class Counter:\n",
    "    def __init__(self):\n",
    "        self.num = 0\n",
    "        \n",
    "    def print_current_val (self):\n",
    "        print('현재값', self.num)\n",
    "        \n",
    "    def increment(self):\n",
    "        self.num += 1\n",
    "        \n",
    "    def reset(self):\n",
    "        self.num = 0\n",
    "        \n",
    "c1 = Counter() # Counter 생성자를 가진 c1 객체\n",
    "\n",
    "c1.print_current_val() # 현재값 0\n",
    "c1.print_current_val() # 현재값 1\n",
    "c1.num # 1\n",
    "\n",
    "#a = c1.increment() # None -> 함수 안의 변수에 저장한 것으로 이렇게 하면 안됨"
   ]
  },
  {
   "cell_type": "markdown",
   "metadata": {},
   "source": [
    "####  2) Class Method(**static** method) \n",
    "* Class로 호출 -> Static 임으로 **객체 생성 없이 Class로 바로 호출**"
   ]
  },
  {
   "cell_type": "code",
   "execution_count": 32,
   "metadata": {},
   "outputs": [
    {
     "data": {
      "text/plain": [
       "4"
      ]
     },
     "execution_count": 32,
     "metadata": {},
     "output_type": "execute_result"
    }
   ],
   "source": [
    "class Math:\n",
    "    @staticmethod\n",
    "    def add(a, b):\n",
    "        return a + b\n",
    "    @staticmethod\n",
    "    def multiply(a, b):\n",
    "        return a * b\n",
    "\n",
    "# Static으로 인해 객체 생성 X -> Class 단위 호출\n",
    "Math.add(10, 20)\n",
    "Math.multiply(2, 2)"
   ]
  },
  {
   "cell_type": "markdown",
   "metadata": {},
   "source": [
    "## 03. 상속(Inheritance)\n",
    "* 상속받는 경우 **class 클래스명(상속할 클래스명):**으로 선언"
   ]
  },
  {
   "cell_type": "code",
   "execution_count": 12,
   "metadata": {},
   "outputs": [
    {
     "name": "stdout",
     "output_type": "stream",
     "text": [
      "Bob은 banana를 먹습니다\n",
      "Bob은 60분동안 일합니다\n"
     ]
    }
   ],
   "source": [
    "class Person:\n",
    "    def __init__ (self, name, age):\n",
    "        self.name = name\n",
    "        self.age = age\n",
    "    \n",
    "    def eat(self, food):\n",
    "        print('{}은 {}를 먹습니다'.format(self.name, food))\n",
    "        \n",
    "    def work(self, minute):\n",
    "        print('{}은 {}분동안 일합니다'.format(self.name, minute))\n",
    "\n",
    "## Person Class 상속\n",
    "class Student(Person):\n",
    "    pass\n",
    "\n",
    "class Employee(Person):\n",
    "    pass\n",
    "\n",
    "c1 = Student('Bob', 22)\n",
    "c1.eat('banana')\n",
    "c1.work(60)"
   ]
  },
  {
   "cell_type": "markdown",
   "metadata": {},
   "source": [
    "#### Method Override\n",
    "* 부모 클래스의 Method를 재정의(Override)\n",
    "* 자식(하위) 클래스의 Instacce로 호출 시, 재정의된 Method가 호출 됨"
   ]
  },
  {
   "cell_type": "code",
   "execution_count": 13,
   "metadata": {
    "scrolled": true
   },
   "outputs": [
    {
     "name": "stdout",
     "output_type": "stream",
     "text": [
      "Anne은 30분동안 공부 합니다\n"
     ]
    }
   ],
   "source": [
    "## Person Class 상속\n",
    "class Student(Person):\n",
    "    def __init__ (self, name, age):\n",
    "        self.name = name\n",
    "        self.age = age\n",
    "    \n",
    "    ## 부모 클래스 기능을 재정의(Override)\n",
    "    def work(self, minute):\n",
    "        print('{}은 {}분동안 공부 합니다'.format(self.name, minute))\n",
    "\n",
    "c2 = Student('Anne', 18)\n",
    "c2.work(30)\n",
    "    "
   ]
  },
  {
   "cell_type": "markdown",
   "metadata": {},
   "source": [
    "#### Super\n",
    "* 자식(하위) 클래스에서 부모 클래스의 Method를 호출할 때 사용\n",
    "* **부모 클래스의 기능을 유지**하면서, **추가적인 기능을 수행**하고자 할때 사용\n",
    "* 상속 받을 메소드명을 선언 후, **super().메소드명()**으로 호출"
   ]
  },
  {
   "cell_type": "code",
   "execution_count": 14,
   "metadata": {
    "scrolled": true
   },
   "outputs": [
    {
     "name": "stdout",
     "output_type": "stream",
     "text": [
      "Anne은 30분동안 일할 준비를 합니다\n",
      "Anne은 30분동안 공부 합니다\n"
     ]
    }
   ],
   "source": [
    "class Person:\n",
    "    def __init__ (self, name, age):\n",
    "        self.name = name\n",
    "        self.age = age\n",
    "    \n",
    "    def eat(self, food):\n",
    "        print('{}은 {}를 먹습니다'.format(self.name, food))\n",
    "        \n",
    "    def work(self, minute):\n",
    "        print('{}은 {}분동안 일할 준비를 합니다'.format(self.name, minute))\n",
    "\n",
    "## Person Class 상속\n",
    "class Student(Person):\n",
    "    def __init__ (self, name, age):\n",
    "        self.name = name\n",
    "        self.age = age\n",
    "\n",
    "    def work(self, minute):\n",
    "        ## 부모 클래스의 기능을 그대로 호출하는 것\n",
    "        super().work(minute)\n",
    "        print('{}은 {}분동안 공부 합니다'.format(self.name, minute))\n",
    "\n",
    "c2 = Student('Anne', 18)\n",
    "c2.work(30) "
   ]
  },
  {
   "cell_type": "markdown",
   "metadata": {},
   "source": [
    "## 04. Class 연산자 재정의\n",
    "* **\\_\\_function_name\\_\\_ 형식으로 생성**되는 특수 함수\n",
    "* 해당 Method 구현 시, 커스텀 객체에 여러가지 Python 내장 함수 및 연산자 적용 가능"
   ]
  },
  {
   "cell_type": "code",
   "execution_count": 54,
   "metadata": {},
   "outputs": [
    {
     "name": "stdout",
     "output_type": "stream",
     "text": [
      "(2, 3)\n",
      "(6, 1)\n",
      "(8, 4) (-4, 2)\n",
      "(6, 9)\n",
      "p1의 길이 13\n",
      "2\n",
      "3\n"
     ]
    }
   ],
   "source": [
    "## point\n",
    "# 2차원 좌표 평면 (x,y)\n",
    "# 연산\n",
    "# 두점의 덧셈, 뺄셈\n",
    "# 한점과 숫자의 곱셈 (1, 2) * 3 = (3, 6)\n",
    "# 대상 길이 (0, 0) 부터의 거리\n",
    "# x, y 값 가져오기\n",
    "\n",
    "class Point:\n",
    "    def __init__ (self, x, y):\n",
    "        self.x = x\n",
    "        self.y = y\n",
    "    \n",
    "    def __add__ (self, pt):\n",
    "        new_x = self.x + pt.x\n",
    "        new_y = self.y + pt.y\n",
    "        \n",
    "        # 다양한 방식으로 Return할 수 있다.\n",
    "        # return Point(new_x, new_y)\n",
    "        #return (new_x, new_y)\n",
    "        return (self.x + pt.x , self.y + pt.y)\n",
    "    \n",
    "    def __sub__ (self, pt):\n",
    "        new_x = self.x - pt.x\n",
    "        new_y = self.y - pt.y\n",
    "        \n",
    "        return Point(new_x, new_y)\n",
    "    \n",
    "    def __mul__ (self, factor):\n",
    "        return Point(self.x * factor, self.y * factor)\n",
    "    \n",
    "    def __len__(self):\n",
    "        return self.x ** 2 + self.y ** 2\n",
    "    \n",
    "    # self 안의 속성값을 index를 사용하여 수행할 수 있도록 함\n",
    "    def __getitem__(self, index):\n",
    "        if index == 0:\n",
    "            return self.x\n",
    "        elif index == 1:\n",
    "            return self.y\n",
    "        else:\n",
    "            pass\n",
    "    \n",
    "    def __str__ (self):\n",
    "        #print('({}, {})'.format(self.x, self.y))\n",
    "        return '({}, {})'.format(self.x, self.y)\n",
    "        \n",
    "p1 = Point(2, 3)\n",
    "p2 = Point(6, 1)\n",
    "\n",
    "## print_pt  함수를 __str__로 변경\n",
    "#p1.print_pt() # (2, 3)\n",
    "print(p1) # (2, 3)\n",
    "print(p2) # (6, 1)\n",
    "\n",
    "#####################################\n",
    "## 객체를 가지고 직접적인 연산 가능\n",
    "######################################\n",
    "#p3 = p1.add(p2)\n",
    "p3 = p1 + p2\n",
    "p4 = p1 - p2\n",
    "print(p3, p4)\n",
    "\n",
    "p5 = p1 * 3 #p1.multiply(3)\n",
    "print(p5)\n",
    "\n",
    "#p1.length()\n",
    "print(\"p1의 길이\", len(p1))\n",
    "\n",
    "#####################################\n",
    "# 해당 객체의 개별 속성을 Index를 통해 가져오기\n",
    "#####################################\n",
    "print(p1[0]) # x 가져오기\n",
    "print(p1[1]) # y 가져오기"
   ]
  },
  {
   "cell_type": "markdown",
   "metadata": {},
   "source": [
    "#### 연습문제\n",
    "* 복소수 클래스 정의\n",
    "* 지원 기능 : 덧셈, 뺄셈, 곱셈, 길이(복소수의 크기)\n",
    "* 출력 형식 : '1 + 4j'와 같이 표현\n",
    "* 비교 연산자 지원\n",
    "    * ==, !=, =, <=, <, >\n",
    "* 절대값 지원"
   ]
  }
 ],
 "metadata": {
  "kernelspec": {
   "display_name": "Python 3",
   "language": "python",
   "name": "python3"
  },
  "language_info": {
   "codemirror_mode": {
    "name": "ipython",
    "version": 3
   },
   "file_extension": ".py",
   "mimetype": "text/x-python",
   "name": "python",
   "nbconvert_exporter": "python",
   "pygments_lexer": "ipython3",
   "version": "3.7.3"
  }
 },
 "nbformat": 4,
 "nbformat_minor": 2
}
