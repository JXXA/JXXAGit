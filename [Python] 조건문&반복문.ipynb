{
 "cells": [
  {
   "cell_type": "markdown",
   "metadata": {},
   "source": [
    "## 조건문"
   ]
  },
  {
   "cell_type": "markdown",
   "metadata": {},
   "source": [
    "### 01. IF - ELIF - ELSE "
   ]
  },
  {
   "cell_type": "code",
   "execution_count": null,
   "metadata": {
    "scrolled": true
   },
   "outputs": [],
   "source": [
    "import datetime\n",
    "\n",
    "now = datetime.datetime.now()\n",
    "#tomorrow = now + datetime.timedelta(days=1)\n",
    "\n",
    "today = str(now.date())\n",
    "#tomorrow = tomorrow.date()\n",
    "\n",
    "if today == '2020-08-13':\n",
    "    print(\"오늘 일자는\", today, \"입니다\")\n",
    "else:\n",
    "    print(\"수행 기준을 지났습니다. (일자:\", today, \")\")\n",
    "    \n",
    "    \n",
    "target = 4\n",
    "\n",
    "if target == 1:\n",
    "    print(\"★\")\n",
    "elif target == 2:\n",
    "    print(\"★★\")\n",
    "elif target == 3:\n",
    "    print(\"★★★\")\n",
    "else:\n",
    "    print(\"★★★★!!!\")"
   ]
  },
  {
   "cell_type": "markdown",
   "metadata": {},
   "source": [
    "## 반복문"
   ]
  },
  {
   "cell_type": "markdown",
   "metadata": {},
   "source": [
    "### 01. While문"
   ]
  },
  {
   "cell_type": "code",
   "execution_count": 9,
   "metadata": {},
   "outputs": [
    {
     "name": "stdout",
     "output_type": "stream",
     "text": [
      "[Warn] 30세 이상입니다.\n",
      "[Error] 40세 이상은 출입할 수 없습니다.\n",
      "1부터 100까지 합계: 4950\n"
     ]
    }
   ],
   "source": [
    "age = [10, 40, 30, 20]\n",
    "age.sort() # 정렬 수행\n",
    "i = 0 # 반복 index 초기설정\n",
    "\n",
    "## i < len(age) 조건을 만족할동안만 수행\n",
    "while i < len(age):\n",
    "\n",
    "    #print(age[i])\n",
    "    i += 1\n",
    "\n",
    "    if age[i] >= 40:\n",
    "        print(\"[Error] 40세 이상은 출입할 수 없습니다.\")\n",
    "        break\n",
    "    elif age[i] >= 30:\n",
    "        print(\"[Warn] 30세 이상입니다.\")\n",
    "        #continue\n",
    "        \n",
    "num = 1\n",
    "_sum = 0\n",
    "while True:\n",
    "    _sum += num\n",
    "    num += 1\n",
    "    \n",
    "    if num >= 100:\n",
    "        break\n",
    "        \n",
    "print(\"1부터 100까지 합계:\", _sum)"
   ]
  },
  {
   "cell_type": "markdown",
   "metadata": {},
   "source": [
    "### 02. For문"
   ]
  },
  {
   "cell_type": "code",
   "execution_count": 15,
   "metadata": {},
   "outputs": [
    {
     "name": "stdout",
     "output_type": "stream",
     "text": [
      "22\n",
      "64\n",
      "92\n",
      "55\n",
      "korea seoul\n",
      "japan tokyo\n"
     ]
    }
   ],
   "source": [
    "age = [22, 64, 92, 55]\n",
    "\n",
    "for i in age:\n",
    "    print(i)\n",
    "    \n",
    "## dict의 아이템 출력하기\n",
    "target = {'korea':'seoul','japan':'tokyo'}\n",
    "\n",
    "## items()를 이용한 튜플 변환으로 key, value를 한번에 가져올 수 있음\n",
    "for k, v in target.items():\n",
    "    print(k, v) # korea seoul"
   ]
  },
  {
   "cell_type": "markdown",
   "metadata": {},
   "source": [
    "#### For문에서 Index 활용하기\n",
    "* enumerate() 함수"
   ]
  },
  {
   "cell_type": "code",
   "execution_count": 24,
   "metadata": {},
   "outputs": [
    {
     "name": "stdout",
     "output_type": "stream",
     "text": [
      "1\n",
      "2\n",
      "4\n",
      "2\n",
      "4\n",
      "8\n",
      "4\n",
      "8\n",
      "16\n"
     ]
    }
   ],
   "source": [
    "a = [1, 2, 3, 4, 5]\n",
    "\n",
    "for i, val in enumerate(a):\n",
    "    if val == 5:\n",
    "        break\n",
    "    elif val == 3:\n",
    "        continue\n",
    "        \n",
    "    #print(val)# (0, 1) (0, 2) ... (4, 5) 형식의 Index 및 Value 출력\n",
    "\n",
    "a = [1, 2, 4]\n",
    "for i in a:\n",
    "    for j in a:\n",
    "        print(i * j) # 1, 2, 4 -> 2, 4, 8 -> ...\n",
    "    "
   ]
  },
  {
   "cell_type": "code",
   "execution_count": 30,
   "metadata": {
    "scrolled": true
   },
   "outputs": [
    {
     "name": "stdout",
     "output_type": "stream",
     "text": [
      "[ 2 단] 2 * 1 = 2\n",
      "[ 2 단] 2 * 2 = 4\n",
      "[ 2 단] 2 * 3 = 6\n",
      "[ 2 단] 2 * 4 = 8\n",
      "[ 2 단] 2 * 5 = 10\n",
      "[ 2 단] 2 * 6 = 12\n",
      "[ 2 단] 2 * 7 = 14\n",
      "[ 2 단] 2 * 8 = 16\n",
      "[ 2 단] 2 * 9 = 18\n",
      "[ 3 단] 3 * 1 = 3\n",
      "[ 3 단] 3 * 2 = 6\n",
      "[ 3 단] 3 * 3 = 9\n",
      "[ 3 단] 3 * 4 = 12\n",
      "[ 3 단] 3 * 5 = 15\n",
      "[ 3 단] 3 * 6 = 18\n",
      "[ 3 단] 3 * 7 = 21\n",
      "[ 3 단] 3 * 8 = 24\n",
      "[ 3 단] 3 * 9 = 27\n",
      "[ 4 단] 4 * 1 = 4\n",
      "[ 4 단] 4 * 2 = 8\n",
      "[ 4 단] 4 * 3 = 12\n",
      "[ 4 단] 4 * 4 = 16\n",
      "[ 4 단] 4 * 5 = 20\n",
      "[ 4 단] 4 * 6 = 24\n",
      "[ 4 단] 4 * 7 = 28\n",
      "[ 4 단] 4 * 8 = 32\n",
      "[ 4 단] 4 * 9 = 36\n",
      "[ 5 단] 5 * 1 = 5\n",
      "[ 5 단] 5 * 2 = 10\n",
      "[ 5 단] 5 * 3 = 15\n",
      "[ 5 단] 5 * 4 = 20\n",
      "[ 5 단] 5 * 5 = 25\n",
      "[ 5 단] 5 * 6 = 30\n",
      "[ 5 단] 5 * 7 = 35\n",
      "[ 5 단] 5 * 8 = 40\n",
      "[ 5 단] 5 * 9 = 45\n",
      "[ 6 단] 6 * 1 = 6\n",
      "[ 6 단] 6 * 2 = 12\n",
      "[ 6 단] 6 * 3 = 18\n",
      "[ 6 단] 6 * 4 = 24\n",
      "[ 6 단] 6 * 5 = 30\n",
      "[ 6 단] 6 * 6 = 36\n",
      "[ 6 단] 6 * 7 = 42\n",
      "[ 6 단] 6 * 8 = 48\n",
      "[ 6 단] 6 * 9 = 54\n",
      "[ 7 단] 7 * 1 = 7\n",
      "[ 7 단] 7 * 2 = 14\n",
      "[ 7 단] 7 * 3 = 21\n",
      "[ 7 단] 7 * 4 = 28\n",
      "[ 7 단] 7 * 5 = 35\n",
      "[ 7 단] 7 * 6 = 42\n",
      "[ 7 단] 7 * 7 = 49\n",
      "[ 7 단] 7 * 8 = 56\n",
      "[ 7 단] 7 * 9 = 63\n",
      "[ 8 단] 8 * 1 = 8\n",
      "[ 8 단] 8 * 2 = 16\n",
      "[ 8 단] 8 * 3 = 24\n",
      "[ 8 단] 8 * 4 = 32\n",
      "[ 8 단] 8 * 5 = 40\n",
      "[ 8 단] 8 * 6 = 48\n",
      "[ 8 단] 8 * 7 = 56\n",
      "[ 8 단] 8 * 8 = 64\n",
      "[ 8 단] 8 * 9 = 72\n",
      "[ 9 단] 9 * 1 = 9\n",
      "[ 9 단] 9 * 2 = 18\n",
      "[ 9 단] 9 * 3 = 27\n",
      "[ 9 단] 9 * 4 = 36\n",
      "[ 9 단] 9 * 5 = 45\n",
      "[ 9 단] 9 * 6 = 54\n",
      "[ 9 단] 9 * 7 = 63\n",
      "[ 9 단] 9 * 8 = 72\n",
      "[ 9 단] 9 * 9 = 81\n"
     ]
    }
   ],
   "source": [
    "### 구구단 출력 ###\n",
    "\n",
    "x = [1, 2, 3, 4, 5, 6, 7, 8, 9] ## 곱할 숫자\n",
    "y = [2, 3, 4, 5, 6, 7, 8, 9] ## 2단, 3단, 4단...\n",
    "\n",
    "for a in y:\n",
    "    for b in x:\n",
    "        print(\"[\",a,\"단]\", a, \"*\", b, \"=\", a * b)"
   ]
  },
  {
   "cell_type": "markdown",
   "metadata": {},
   "source": [
    "#### range 함수\n",
    "* 리스트 생성 함수"
   ]
  },
  {
   "cell_type": "code",
   "execution_count": 39,
   "metadata": {
    "scrolled": true
   },
   "outputs": [
    {
     "data": {
      "text/plain": [
       "[5,\n",
       " 10,\n",
       " 15,\n",
       " 20,\n",
       " 25,\n",
       " 30,\n",
       " 35,\n",
       " 40,\n",
       " 45,\n",
       " 50,\n",
       " 55,\n",
       " 60,\n",
       " 65,\n",
       " 70,\n",
       " 75,\n",
       " 80,\n",
       " 85,\n",
       " 90,\n",
       " 95,\n",
       " 100]"
      ]
     },
     "execution_count": 39,
     "metadata": {},
     "output_type": "execute_result"
    }
   ],
   "source": [
    "list(range(2,10,2))\n",
    "\n",
    "## 1부터 100사이의 5의 배수를 가지는 리스트 생성\n",
    "list(range(5,101,5))"
   ]
  },
  {
   "cell_type": "markdown",
   "metadata": {},
   "source": [
    "### if & for 연습문제\n",
    "   \n",
    "  2. 1 - 100까지 정수 중 2의 배수 또는 11의 배수를 모두 출력하시오. \n",
    "  4. a = [22, 1, 3, 4, 7, 98, 21, 55, 87, 99, 19, 20, 45] 에서 최대값과 최소값을 찾으시오. (sorted, sort 사용 금지)\n",
    "  5. a = [22, 1, 3, 4, 7, 98, 21, 55, 87, 99, 19, 20, 45] 에서 평균을 구하세요"
   ]
  },
  {
   "cell_type": "code",
   "execution_count": 8,
   "metadata": {},
   "outputs": [
    {
     "ename": "IndentationError",
     "evalue": "expected an indented block (<ipython-input-8-0e70b97de9d7>, line 5)",
     "output_type": "error",
     "traceback": [
      "\u001b[1;36m  File \u001b[1;32m\"<ipython-input-8-0e70b97de9d7>\"\u001b[1;36m, line \u001b[1;32m5\u001b[0m\n\u001b[1;33m    a = [22, 1, 3, 4, 7, 98, 21, 55, 87, 99, 19, 20, 45]\u001b[0m\n\u001b[1;37m                                                        ^\u001b[0m\n\u001b[1;31mIndentationError\u001b[0m\u001b[1;31m:\u001b[0m expected an indented block\n"
     ]
    }
   ],
   "source": [
    "for i in range(1,101):\n",
    "    if i % 2 == 0 or i % 11 == 0:\n",
    "        print(\"2 또는 11의 배수:\", i)\n"
   ]
  },
  {
   "cell_type": "code",
   "execution_count": 32,
   "metadata": {},
   "outputs": [
    {
     "name": "stdout",
     "output_type": "stream",
     "text": [
      "최소 1 최대 99\n",
      "합계 481\n",
      "평균 37.0\n"
     ]
    }
   ],
   "source": [
    "a = [22, 1, 3, 4, 7, 98, 21, 55, 87, 99, 19, 20, 45]\n",
    "\n",
    "_min = a[0]\n",
    "_max = a[0]\n",
    "\n",
    "for i in a:\n",
    "    if _min > i:\n",
    "        _min = i\n",
    "    if _max < i:\n",
    "        _max = i\n",
    "        \n",
    "print(\"최소\", _min, \"최대\", _max)\n",
    "\n",
    "_total = 0\n",
    "\n",
    "for i in a:\n",
    "    _total += i\n",
    " \n",
    "print(\"합계\", _total)\n",
    "_mean = _total / len(a)\n",
    "\n",
    "print(\"평균\", _mean)"
   ]
  }
 ],
 "metadata": {
  "kernelspec": {
   "display_name": "Python 3",
   "language": "python",
   "name": "python3"
  },
  "language_info": {
   "codemirror_mode": {
    "name": "ipython",
    "version": 3
   },
   "file_extension": ".py",
   "mimetype": "text/x-python",
   "name": "python",
   "nbconvert_exporter": "python",
   "pygments_lexer": "ipython3",
   "version": "3.7.3"
  }
 },
 "nbformat": 4,
 "nbformat_minor": 2
}
