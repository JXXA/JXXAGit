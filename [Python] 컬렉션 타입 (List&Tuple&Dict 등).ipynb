{
 "cells": [
  {
   "cell_type": "markdown",
   "metadata": {},
   "source": [
    "#### [참고] 문자열 타입 Fomatting"
   ]
  },
  {
   "cell_type": "code",
   "execution_count": 1,
   "metadata": {},
   "outputs": [
    {
     "data": {
      "text/plain": [
       "'오늘 날씨는 매우 흐림 입니다.'"
      ]
     },
     "execution_count": 1,
     "metadata": {},
     "output_type": "execute_result"
    }
   ],
   "source": [
    "'오늘 날씨는 {} 입니다.'.format('매우 흐림')"
   ]
  },
  {
   "cell_type": "markdown",
   "metadata": {},
   "source": [
    "* * * \n",
    "\n",
    "# 01. List\n",
    "\n",
    "* 생성 후 변경 가능\n",
    "* 선언 : []\n",
    "\n",
    "* * * "
   ]
  },
  {
   "cell_type": "code",
   "execution_count": 103,
   "metadata": {},
   "outputs": [
    {
     "name": "stdout",
     "output_type": "stream",
     "text": [
      "list Create: [1, 2, 3, 4]\n",
      "String -> List  ['h', 'e', 'l', 'l', 'o', ' ', 'w', 'o', 'r', 'd']\n",
      "Tuple -> List  [1, 2, 3]\n"
     ]
    }
   ],
   "source": [
    "# List 기본 생성 방법\n",
    "a = [1,2,3,4]\n",
    "print(\"list Create:\", a)\n",
    "b = 'hello word'\n",
    "print(\"String -> List \", list(b))\n",
    "\n",
    "# Tuple을 List로 변환\n",
    "c = (1,2,3)\n",
    "d = list(c)\n",
    "print(\"Tuple -> List \", d)"
   ]
  },
  {
   "cell_type": "code",
   "execution_count": 16,
   "metadata": {},
   "outputs": [
    {
     "data": {
      "text/plain": [
       "'jello world'"
      ]
     },
     "execution_count": 16,
     "metadata": {},
     "output_type": "execute_result"
    }
   ],
   "source": [
    "## 인덱싱\n",
    "a = [1,2,3,4,5,6]\n",
    "a[0:2] # a[-1]\n",
    "\n",
    "b = 'hello world'\n",
    "c = b.replace(b[0], 'j')\n",
    "print(c)"
   ]
  },
  {
   "cell_type": "markdown",
   "metadata": {},
   "source": [
    "#### List 객체 함수\n",
    "\n",
    "* **split()**\n",
    "* append()\n",
    "* extend()\n",
    "* insert()\n",
    "* remove()\n",
    "* pop()\n",
    "* **in 키워드**"
   ]
  },
  {
   "cell_type": "code",
   "execution_count": 102,
   "metadata": {},
   "outputs": [
    {
     "name": "stdout",
     "output_type": "stream",
     "text": [
      "split: ['hello', 'world', 'python']\n",
      "append :  [1, 2, 3, 3]\n",
      "extend :  [3, 4, 5, 1, 2, 3, 3]\n",
      "insert :  [10, 1, 2, 3, 3]\n",
      "remove :  [10, 1, 2, 3]\n",
      "pop :  [10, 1, 2]\n",
      "index :  [10, 1, 2]\n",
      "Keyword IN :  True\n"
     ]
    }
   ],
   "source": [
    "# 문자열 split (sep가 지정되지 않으면 스페이스를 기본으로 분리하여 리스트로 반환)\n",
    "str = 'hello world python'\n",
    "print(\"split :\", str.split())\n",
    "\n",
    "## 데이터 추가\n",
    "a = [1,2,3]\n",
    "a.append(3)\n",
    "print(\"append : \", a) # [1,2,3,3]\n",
    "\n",
    "## 리스트 +=\n",
    "b = [3,4,5]\n",
    "b.extend(a)\n",
    "print(\"extend : \", b) # [3, 4, 5, 1, 2, 3]\n",
    "\n",
    "## 해당 인덱스에 데이터 추가\n",
    "a.insert(0, 10)\n",
    "print(\"insert : \", a)\n",
    "\n",
    "## 값으로 항목 삭제\n",
    "a.remove(3)\n",
    "print(\"remove : \", a)\n",
    "\n",
    "## 가장 마지막 인덱스 값을 반환 후 삭제\n",
    "a.pop()\n",
    "print(\"pop : \", a)\n",
    "\n",
    "## 인덱스 값 추출\n",
    "a.index(10)\n",
    "print(\"index : \", a)\n",
    "\n",
    "target = 10\n",
    "print(\"Keyword IN : \", target in a)"
   ]
  },
  {
   "cell_type": "markdown",
   "metadata": {},
   "source": [
    "#### List 정렬\n",
    "* sort() : 내부적 정렬\n",
    "* sorted() : 정렬 복사본 반환"
   ]
  },
  {
   "cell_type": "code",
   "execution_count": 43,
   "metadata": {},
   "outputs": [
    {
     "name": "stdout",
     "output_type": "stream",
     "text": [
      "['TEST', 'HELLO', 'TUTORIAL']\n",
      "['HELLO', 'TEST', 'TUTORIAL']\n"
     ]
    }
   ],
   "source": [
    "a = [\"TEST\", \"HELLO\", \"TUTORIAL\"]\n",
    "#a = [2,3,4,5]\n",
    "#a.sort() #a.sort(reverse=True)\n",
    "print(a)\n",
    "\n",
    "b = sorted(a)\n",
    "print(b)"
   ]
  },
  {
   "cell_type": "markdown",
   "metadata": {},
   "source": [
    "* * * \n",
    "\n",
    "# 02. Tuple\n",
    "\n",
    "* 생성 후 변경 불가능\n",
    "* 선언 : ()\n",
    "\n",
    "* * * "
   ]
  },
  {
   "cell_type": "code",
   "execution_count": 104,
   "metadata": {},
   "outputs": [
    {
     "name": "stdout",
     "output_type": "stream",
     "text": [
      "tup 100\n",
      "unpacking 200\n",
      "200 100\n"
     ]
    }
   ],
   "source": [
    "## [Tuple 활용]\n",
    "## Python Function은 결과를 하나만 반환할 수 있으나,\n",
    "## Tuple을 이용해서 Multiple return이 됨으로 이때 사용되기도 함\n",
    "\n",
    "## Tuple 기본 생성\n",
    "b = (\"T\", \"U\", \"P\", \"L\", \"E\")\n",
    "type(b)\n",
    "\n",
    "tup, unpacking = 100, 200\n",
    "print(\"tup\", tup)\n",
    "print(\"unpacking\", unpacking)\n",
    "\n",
    "## Unpacking 사용\n",
    "tup, unpacking = unpacking, tup\n",
    "print (tup, unpacking)\n"
   ]
  },
  {
   "cell_type": "markdown",
   "metadata": {},
   "source": [
    "* * * \n",
    "\n",
    "# 03. Dictionary\n",
    "\n",
    "* Key-value 구조\n",
    "* Index 구조가 없음\n",
    "* 선언 : {'key' : 'value', 'key' : 'value'....}\n",
    "\n",
    "* * * "
   ]
  },
  {
   "cell_type": "code",
   "execution_count": 57,
   "metadata": {},
   "outputs": [
    {
     "name": "stdout",
     "output_type": "stream",
     "text": [
      "Dict :  {'korea': 'seoul', 'Canada': 'Ottawa', 'Japan': 'Tokyo'}\n",
      "Key 값으로 Value 가져오기 seoul\n",
      "값 추가 :  {'korea': 'seoul', 'Canada': 'Ottawa', 'Japan': 'Tokyo', 'China': 'Beijing'}\n"
     ]
    }
   ],
   "source": [
    "a = {'korea' : 'seoul', \n",
    "     'Canada' : 'Ottawa', \n",
    "     'Japan' : 'Tokyo'}\n",
    "print(\"Dict : \", a)\n",
    "\n",
    "print(\"Key 값으로 Value 가져오기\", a['korea'])\n",
    "      \n",
    "## 새로운 값 추가\n",
    "a['China'] = 'Beijing'\n",
    "print(\"값 추가 : \", a)"
   ]
  },
  {
   "cell_type": "markdown",
   "metadata": {},
   "source": [
    "#### UPDATE / DELETE\n",
    "\n",
    "* UPDATE \n",
    " * update() : 두 Dict를 병합\n",
    " * 중복키 발생 시, Parameter로 전달되는 값이 overwrite'\n",
    "\n",
    "* DELETE\n",
    " * del 키워드\n",
    " * pop 함수\n",
    " \n",
    "* TRUNCATE\n",
    " * clear 함수"
   ]
  },
  {
   "cell_type": "code",
   "execution_count": 67,
   "metadata": {},
   "outputs": [
    {
     "name": "stdout",
     "output_type": "stream",
     "text": [
      "a.update 수행 :  {'a': 2, 'b': 2, 'c': 3, 'd': 4, 'e': 5}\n",
      "a pop 수행 :  {'a': 2, 'c': 3, 'd': 4, 'e': 5}\n",
      "a del 키워드 수행 :  {'a': 2, 'd': 4, 'e': 5}\n",
      "clear {}\n"
     ]
    }
   ],
   "source": [
    "## UPDATE 수행 ##\n",
    "a = {'a' : 1, 'b' : 2, 'c' : 3}\n",
    "b = {'a' : 2, 'd' : 4, 'e' : 5}\n",
    "\n",
    "a.update(b)\n",
    "print('a.update 수행 : ', a)\n",
    "\n",
    "## DELETE 수행 ##\n",
    "a.pop('b') ## Dict일 경우, 인덱스가 없으니 Key를 명시해줘야함\n",
    "print('a pop 수행 : ', a)\n",
    "\n",
    "del a['c']\n",
    "print('a del 키워드 수행 : ', a)\n",
    "\n",
    "## 초기화\n",
    "a.clear()\n",
    "print(\"clear\", a)"
   ]
  },
  {
   "cell_type": "markdown",
   "metadata": {},
   "source": [
    "#### IN 키워드 \n",
    "* Dict에서 자주 사용 -> **성능 상관 없이** 빠른 연산 가능"
   ]
  },
  {
   "cell_type": "code",
   "execution_count": 70,
   "metadata": {},
   "outputs": [
    {
     "name": "stdout",
     "output_type": "stream",
     "text": [
      "True\n"
     ]
    }
   ],
   "source": [
    "a = {'a' : 1, 'b' : 2, 'c' : 3}\n",
    "\n",
    "## In 키워드는 Dict 개수와 상관없이 연산 속도 일정\n",
    "## 따라서 성능 저하가 발생하지 않기때문에 자주 사용한다.\n",
    "print('b' in a)  "
   ]
  },
  {
   "cell_type": "markdown",
   "metadata": {},
   "source": [
    "#### Value 접근 \n",
    "* 키가 없는 경우 ERROR 발생 -> 따라서 가능하다면 **get 함수로 접근** 필요\n",
    "* get 사용 시, 키가 없는 경우 None 반환"
   ]
  },
  {
   "cell_type": "code",
   "execution_count": 72,
   "metadata": {},
   "outputs": [
    {
     "name": "stdout",
     "output_type": "stream",
     "text": [
      "None\n"
     ]
    }
   ],
   "source": [
    "print(a.get('z'))"
   ]
  },
  {
   "cell_type": "markdown",
   "metadata": {},
   "source": [
    "#### Dict 함수\n",
    "* keys() : 키 반환\n",
    "* values() : 값 반환\n",
    "* items() : key-value 형식의 Tuple 반환"
   ]
  },
  {
   "cell_type": "code",
   "execution_count": 79,
   "metadata": {},
   "outputs": [
    {
     "name": "stdout",
     "output_type": "stream",
     "text": [
      "dict :  {'a': 1, 'b': 2, 'c': 3}\n",
      "dict_keys(['a', 'b', 'c'])\n",
      "dict_values([1, 2, 3])\n",
      "key-value 형식의 Tuple : dict_items([('a', 1), ('b', 2), ('c', 3)])\n"
     ]
    }
   ],
   "source": [
    "a = {'a' : 1, 'b' : 2, 'c' : 3}\n",
    "print(\"dict : \", a)\n",
    "print(a.keys())\n",
    "print(a.values())\n",
    "print(\"key-value 형식의 Tuple :\", a.items())"
   ]
  },
  {
   "cell_type": "markdown",
   "metadata": {},
   "source": [
    "* * * \n",
    "\n",
    "# 04. Set\n",
    "\n",
    "* 집합 개념 \n",
    "* Dict에서 Key만 활용하는 데이터 구조로 이해\n",
    "* 선언 : {}\n",
    "\n",
    "* * * "
   ]
  },
  {
   "cell_type": "code",
   "execution_count": 92,
   "metadata": {},
   "outputs": [
    {
     "name": "stdout",
     "output_type": "stream",
     "text": [
      "{1, 4, 5, 6, 7, 8}\n",
      "a의 List: [1, 4, 5, 6, 7, 8]\n",
      "list_a의 Set: {1, 4, 5, 6, 7, 8}\n"
     ]
    }
   ],
   "source": [
    "a = {1,4,5,6,7,8,1,1}\n",
    "print(a) ## 중복 없이 출력\n",
    "\n",
    "## set으로 변환\n",
    "list_a = list(a)\n",
    "print(\"a의 List:\", list_a)\n",
    "set_a = set(list_a)\n",
    "print(\"list_a의 Set:\", set_a)"
   ]
  },
  {
   "cell_type": "code",
   "execution_count": 99,
   "metadata": {},
   "outputs": [
    {
     "name": "stdout",
     "output_type": "stream",
     "text": [
      "{1, 2, 3, 4, 5}\n",
      "{2}\n",
      "{3, 4}\n",
      "True\n"
     ]
    }
   ],
   "source": [
    "a = {2, 3, 4}\n",
    "b = {1, 2, 5}\n",
    "\n",
    "print(a.union(b)) # 합집합\n",
    "print(a.intersection(b)) ## 교집합\n",
    "print(a.difference(b)) ## 차집합\n",
    "print(a.issubset(a)) ## 부분집합"
   ]
  }
 ],
 "metadata": {
  "kernelspec": {
   "display_name": "Python 3",
   "language": "python",
   "name": "python3"
  },
  "language_info": {
   "codemirror_mode": {
    "name": "ipython",
    "version": 3
   },
   "file_extension": ".py",
   "mimetype": "text/x-python",
   "name": "python",
   "nbconvert_exporter": "python",
   "pygments_lexer": "ipython3",
   "version": "3.7.3"
  }
 },
 "nbformat": 4,
 "nbformat_minor": 2
}
