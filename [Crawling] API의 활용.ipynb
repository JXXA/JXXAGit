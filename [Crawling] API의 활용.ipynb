{
 "cells": [
  {
   "cell_type": "markdown",
   "metadata": {},
   "source": [
    "## Requsets Module 사용 (HTTP 통신)"
   ]
  },
  {
   "cell_type": "markdown",
   "metadata": {},
   "source": [
    "#### request Module 기본 사용"
   ]
  },
  {
   "cell_type": "code",
   "execution_count": null,
   "metadata": {},
   "outputs": [],
   "source": [
    "import requests"
   ]
  },
  {
   "cell_type": "code",
   "execution_count": null,
   "metadata": {},
   "outputs": [],
   "source": [
    "url = 'https://news.v.daum.net/v/20200825173340355'\n",
    "\n",
    "resp = requests.get(url)\n",
    "resp.text"
   ]
  },
  {
   "cell_type": "code",
   "execution_count": null,
   "metadata": {},
   "outputs": [],
   "source": [
    "url = 'https://www.kangcom.com/member/member_check.asp'\n",
    "\n",
    "data = {\n",
    "    'id' : 'macmath22',\n",
    "    'pwd' : 'T'\n",
    "}\n",
    "\n",
    "resp = requests.post(url, data=data)\n",
    "resp.text"
   ]
  },
  {
   "cell_type": "markdown",
   "metadata": {},
   "source": [
    "#### Header 값 전달하기"
   ]
  },
  {
   "cell_type": "code",
   "execution_count": null,
   "metadata": {},
   "outputs": [],
   "source": [
    "url = 'https://news.v.daum.net/v/20200825173340355'\n",
    "\n",
    "## Header 값 전달이 필요한 경우\n",
    "headers = {\n",
    "    'user-agent' : 'Mozilla/5.0 (Windows NT 10.0; Win64; x64) AppleWebKit/537.36 (KHTML, like Gecko) Chrome/84.0.4147.135 Safari/537.36'\n",
    "}\n",
    "\n",
    "resp = requests.get(url, headers=headers)\n",
    "resp.text"
   ]
  },
  {
   "cell_type": "markdown",
   "metadata": {},
   "source": [
    "#### HTTP response 처리\n",
    "* response 객체의 이해\n",
    "* status_code 확인\n",
    "* text 속성 확인"
   ]
  },
  {
   "cell_type": "code",
   "execution_count": null,
   "metadata": {},
   "outputs": [],
   "source": [
    "url = 'https://news.v.daum.net/v/20200825173340355'\n",
    "\n",
    "resp = requests.get(url)\n",
    "\n",
    "if resp.status_code == 200:\n",
    "    print(resp.text)\n",
    "else:\n",
    "    print('Error')"
   ]
  },
  {
   "cell_type": "markdown",
   "metadata": {},
   "source": [
    "## 공공 데이터 API 사용"
   ]
  },
  {
   "cell_type": "markdown",
   "metadata": {},
   "source": [
    "#### Endpoint 확인\n",
    "* API가 서비스 되는 서버 IP 또는 domain 주소\n",
    "\n",
    "#### 인증 Key\n",
    "* API 신청 시, 발급 받을 수 있는 Key"
   ]
  },
  {
   "cell_type": "code",
   "execution_count": null,
   "metadata": {},
   "outputs": [],
   "source": [
    "endpoint = 'http://ws.bus.go.kr/api/rest/busRouteInfo/getRouteInfo?ServiceKey={}&busRouteId=100100112'.format(serviceKey)\n",
    "print(endpoint)\n",
    "\n",
    "endpoint = 'http://ws.bus.go.kr/api/rest/busRouteInfo/getBusRouteList?ServiceKey={}&strSrch=1'.format(serviceKey)\n",
    "\n",
    "resp = requests.get(endpoint)\n",
    "\n",
    "print(resp.status_code)\n",
    "print(resp.text)"
   ]
  },
  {
   "cell_type": "markdown",
   "metadata": {},
   "source": [
    "#### 코로나19 감염현황 조회 API 호출"
   ]
  },
  {
   "cell_type": "code",
   "execution_count": null,
   "metadata": {},
   "outputs": [],
   "source": [
    "\n",
    "serviceKey=''\n",
    "endpoint='http://openapi.data.go.kr/openapi/service/rest/Covid19/getCovid19GenAgeCaseInfJson?serviceKey={}&pageNo=1&numOfRows=10&startCreateDt=20200310&endCreateDt=20200414'.format(serviceKey)\n",
    "\n",
    "print(endpoint)\n",
    "\n",
    "resp = requests.get(endpoint)\n",
    "resp.status_code\n",
    "#data = resp.json()"
   ]
  }
 ],
 "metadata": {
  "kernelspec": {
   "display_name": "Python 3",
   "language": "python",
   "name": "python3"
  },
  "language_info": {
   "codemirror_mode": {
    "name": "ipython",
    "version": 3
   },
   "file_extension": ".py",
   "mimetype": "text/x-python",
   "name": "python",
   "nbconvert_exporter": "python",
   "pygments_lexer": "ipython3",
   "version": "3.7.3"
  }
 },
 "nbformat": 4,
 "nbformat_minor": 2
}
