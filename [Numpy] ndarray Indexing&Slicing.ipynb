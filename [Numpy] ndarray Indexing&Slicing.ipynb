{
 "cells": [
  {
   "cell_type": "markdown",
   "metadata": {},
   "source": [
    "## 1. Indexing"
   ]
  },
  {
   "cell_type": "code",
   "execution_count": null,
   "metadata": {},
   "outputs": [],
   "source": [
    "import numpy as np"
   ]
  },
  {
   "cell_type": "code",
   "execution_count": 37,
   "metadata": {},
   "outputs": [
    {
     "name": "stdout",
     "output_type": "stream",
     "text": [
      "1차원 행렬 [1 2 3 4 5 6 7 8 9]\n",
      "1차원 원소 추출 x[0] : 1 \n",
      "\n",
      "2차원 행렬\n",
      " [[0 1 2 3 4]\n",
      " [5 6 7 8 9]]\n",
      "2차원 원소 추출 y[1.3] : 8 \n",
      "\n",
      "3차원 행렬\n",
      " [[[ 0  1  2]\n",
      "  [ 3  4  5]\n",
      "  [ 6  7  8]\n",
      "  [ 9 10 11]]\n",
      "\n",
      " [[12 13 14]\n",
      "  [15 16 17]\n",
      "  [18 19 20]\n",
      "  [21 22 23]]\n",
      "\n",
      " [[24 25 26]\n",
      "  [27 28 29]\n",
      "  [30 31 32]\n",
      "  [33 34 35]]]\n",
      "3차원 원소 추출 z[1,2,1] : 19\n"
     ]
    }
   ],
   "source": [
    "## 기본 활용은 Python 인덱스와 동일\n",
    "\n",
    "# 1) 1차원\n",
    "x = np.arange(1,10)\n",
    "print(\"1차원 행렬\", x)\n",
    "print(\"1차원 원소 추출 x[0] :\", x[0], \"\\n\")\n",
    "\n",
    "# 2) 2차원\n",
    "y = np.arange(10).reshape(2, 5)\n",
    "print(\"2차원 행렬\\n\", y)\n",
    "print(\"2차원 원소 추출 y[1.3] :\", y[1,3], \"\\n\") # 하나의 원소를 추출하기위해 행과 열 수를 기재\n",
    "\n",
    "# 3) 3차원\n",
    "z = np.arange(36).reshape(3, 4, 3)\n",
    "print(\"3차원 행렬\\n\",z)\n",
    "print(\"3차원 원소 추출 z[1,2,1] :\", z[1,2,1])"
   ]
  },
  {
   "cell_type": "markdown",
   "metadata": {},
   "source": [
    "## 2. Slicing"
   ]
  },
  {
   "cell_type": "code",
   "execution_count": 41,
   "metadata": {},
   "outputs": [
    {
     "name": "stdout",
     "output_type": "stream",
     "text": [
      "[1 2 3 4 5 6 7 8 9]\n"
     ]
    },
    {
     "data": {
      "text/plain": [
       "array([2, 3, 4, 5, 6, 7])"
      ]
     },
     "execution_count": 41,
     "metadata": {},
     "output_type": "execute_result"
    }
   ],
   "source": [
    "# 1) 1차원\n",
    "x = np.arange(1,10)\n",
    "print(x)\n",
    "x[1:7]"
   ]
  },
  {
   "cell_type": "code",
   "execution_count": 63,
   "metadata": {},
   "outputs": [
    {
     "name": "stdout",
     "output_type": "stream",
     "text": [
      "원래의 값\n",
      " [[0 1 2 3 4]\n",
      " [5 6 7 8 9]] \n",
      "\n",
      "[[5 6 7]]\n",
      "[0 1 2]\n"
     ]
    }
   ],
   "source": [
    "# 2) 2차원\n",
    "y = np.arange(10).reshape(2, 5)\n",
    "print(\"원래의 값\\n\", y ,\"\\n\")\n",
    "\n",
    "# 둘의 차이점 알아놓자\n",
    "\n",
    "print(y[1: , 0:3]) # Slicing (슬라이싱은 차원을 유지하면서 자르는 것)\n",
    "\n",
    "print(y[0 , 0:3]) # Indexing + Slicing"
   ]
  },
  {
   "cell_type": "code",
   "execution_count": 82,
   "metadata": {},
   "outputs": [
    {
     "name": "stdout",
     "output_type": "stream",
     "text": [
      "원래의 값\n",
      " [[[ 0  1  2]\n",
      "  [ 3  4  5]\n",
      "  [ 6  7  8]\n",
      "  [ 9 10 11]]\n",
      "\n",
      " [[12 13 14]\n",
      "  [15 16 17]\n",
      "  [18 19 20]\n",
      "  [21 22 23]]\n",
      "\n",
      " [[24 25 26]\n",
      "  [27 28 29]\n",
      "  [30 31 32]\n",
      "  [33 34 35]]] \n",
      "\n"
     ]
    },
    {
     "data": {
      "text/plain": [
       "array([[[17]]])"
      ]
     },
     "execution_count": 82,
     "metadata": {},
     "output_type": "execute_result"
    }
   ],
   "source": [
    "# 3) 3차원\n",
    "\n",
    "z = np.arange(36).reshape(3, 4, 3)\n",
    "print(\"원래의 값\\n\",z ,\"\\n\")\n",
    "\n",
    "# 17의 값을 가져와보자\n",
    "z[1:2, 1:2, 2:]"
   ]
  },
  {
   "cell_type": "code",
   "execution_count": null,
   "metadata": {},
   "outputs": [],
   "source": []
  }
 ],
 "metadata": {
  "kernelspec": {
   "display_name": "Python 3",
   "language": "python",
   "name": "python3"
  },
  "language_info": {
   "codemirror_mode": {
    "name": "ipython",
    "version": 3
   },
   "file_extension": ".py",
   "mimetype": "text/x-python",
   "name": "python",
   "nbconvert_exporter": "python",
   "pygments_lexer": "ipython3",
   "version": "3.7.3"
  }
 },
 "nbformat": 4,
 "nbformat_minor": 2
}
