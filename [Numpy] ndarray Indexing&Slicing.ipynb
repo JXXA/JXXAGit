{
 "cells": [
  {
   "cell_type": "markdown",
   "metadata": {},
   "source": [
    "## 1. Indexing"
   ]
  },
  {
   "cell_type": "code",
   "execution_count": 1,
   "metadata": {},
   "outputs": [],
   "source": [
    "import numpy as np"
   ]
  },
  {
   "cell_type": "code",
   "execution_count": 37,
   "metadata": {},
   "outputs": [
    {
     "name": "stdout",
     "output_type": "stream",
     "text": [
      "1차원 행렬 [1 2 3 4 5 6 7 8 9]\n",
      "1차원 원소 추출 x[0] : 1 \n",
      "\n",
      "2차원 행렬\n",
      " [[0 1 2 3 4]\n",
      " [5 6 7 8 9]]\n",
      "2차원 원소 추출 y[1.3] : 8 \n",
      "\n",
      "3차원 행렬\n",
      " [[[ 0  1  2]\n",
      "  [ 3  4  5]\n",
      "  [ 6  7  8]\n",
      "  [ 9 10 11]]\n",
      "\n",
      " [[12 13 14]\n",
      "  [15 16 17]\n",
      "  [18 19 20]\n",
      "  [21 22 23]]\n",
      "\n",
      " [[24 25 26]\n",
      "  [27 28 29]\n",
      "  [30 31 32]\n",
      "  [33 34 35]]]\n",
      "3차원 원소 추출 z[1,2,1] : 19\n"
     ]
    }
   ],
   "source": [
    "## 기본 활용은 Python 인덱스와 동일\n",
    "\n",
    "# 1) 1차원\n",
    "x = np.arange(1,10)\n",
    "print(\"1차원 행렬\", x)\n",
    "print(\"1차원 원소 추출 x[0] :\", x[0], \"\\n\")\n",
    "\n",
    "# 2) 2차원\n",
    "y = np.arange(10).reshape(2, 5)\n",
    "print(\"2차원 행렬\\n\", y)\n",
    "print(\"2차원 원소 추출 y[1.3] :\", y[1,3], \"\\n\") # 하나의 원소를 추출하기위해 행과 열 수를 기재\n",
    "\n",
    "# 3) 3차원\n",
    "z = np.arange(36).reshape(3, 4, 3)\n",
    "print(\"3차원 행렬\\n\",z)\n",
    "print(\"3차원 원소 추출 z[1,2,1] :\", z[1,2,1])"
   ]
  },
  {
   "cell_type": "markdown",
   "metadata": {},
   "source": [
    "## 2. Slicing"
   ]
  },
  {
   "cell_type": "code",
   "execution_count": 41,
   "metadata": {},
   "outputs": [
    {
     "name": "stdout",
     "output_type": "stream",
     "text": [
      "[1 2 3 4 5 6 7 8 9]\n"
     ]
    },
    {
     "data": {
      "text/plain": [
       "array([2, 3, 4, 5, 6, 7])"
      ]
     },
     "execution_count": 41,
     "metadata": {},
     "output_type": "execute_result"
    }
   ],
   "source": [
    "# 1) 1차원\n",
    "x = np.arange(1,10)\n",
    "print(x)\n",
    "x[1:7]"
   ]
  },
  {
   "cell_type": "code",
   "execution_count": 63,
   "metadata": {},
   "outputs": [
    {
     "name": "stdout",
     "output_type": "stream",
     "text": [
      "원래의 값\n",
      " [[0 1 2 3 4]\n",
      " [5 6 7 8 9]] \n",
      "\n",
      "[[5 6 7]]\n",
      "[0 1 2]\n"
     ]
    }
   ],
   "source": [
    "# 2) 2차원\n",
    "y = np.arange(10).reshape(2, 5)\n",
    "print(\"원래의 값\\n\", y ,\"\\n\")\n",
    "\n",
    "# 둘의 차이점 알아놓자\n",
    "\n",
    "print(y[1: , 0:3]) # Slicing (슬라이싱은 차원을 유지하면서 자르는 것)\n",
    "\n",
    "print(y[0 , 0:3]) # Indexing + Slicing"
   ]
  },
  {
   "cell_type": "code",
   "execution_count": 82,
   "metadata": {},
   "outputs": [
    {
     "name": "stdout",
     "output_type": "stream",
     "text": [
      "원래의 값\n",
      " [[[ 0  1  2]\n",
      "  [ 3  4  5]\n",
      "  [ 6  7  8]\n",
      "  [ 9 10 11]]\n",
      "\n",
      " [[12 13 14]\n",
      "  [15 16 17]\n",
      "  [18 19 20]\n",
      "  [21 22 23]]\n",
      "\n",
      " [[24 25 26]\n",
      "  [27 28 29]\n",
      "  [30 31 32]\n",
      "  [33 34 35]]] \n",
      "\n"
     ]
    },
    {
     "data": {
      "text/plain": [
       "array([[[17]]])"
      ]
     },
     "execution_count": 82,
     "metadata": {},
     "output_type": "execute_result"
    }
   ],
   "source": [
    "# 3) 3차원\n",
    "\n",
    "z = np.arange(36).reshape(3, 4, 3)\n",
    "print(\"원래의 값\\n\",z ,\"\\n\")\n",
    "\n",
    "# 17의 값을 가져와보자\n",
    "z[1:2, 1:2, 2:]"
   ]
  },
  {
   "cell_type": "markdown",
   "metadata": {},
   "source": [
    "## 3. 데이터 형태 변환 (reshape, flatten)"
   ]
  },
  {
   "cell_type": "markdown",
   "metadata": {},
   "source": [
    "#### ravel, np.ravel\n",
    "* 다차원 배열 -> 1차원으로 변경\n",
    "\n",
    "#### flatten\n",
    "* 다차원 배열 -> 1차원으로 변경한 **복사본**을 반환\n",
    "\n",
    "#### 정렬\n",
    "* order 파라미터를 사용\n",
    "    * C : row 우선 변경\n",
    "    * F : Col 우선 변경"
   ]
  },
  {
   "cell_type": "code",
   "execution_count": 21,
   "metadata": {},
   "outputs": [
    {
     "name": "stdout",
     "output_type": "stream",
     "text": [
      "[[ 0  1  2  3  4]\n",
      " [ 5  6  7  8  9]\n",
      " [10 11 12 13 14]]\n"
     ]
    },
    {
     "data": {
      "text/plain": [
       "array([ 0,  5, 10,  1,  6, 11,  2,  7, 12,  3,  8, 13,  4,  9, 14])"
      ]
     },
     "execution_count": 21,
     "metadata": {},
     "output_type": "execute_result"
    }
   ],
   "source": [
    "## 1) ravel 사용\n",
    "x = np.arange(15).reshape(3,5)\n",
    "print(x)\n",
    "\n",
    "np.ravel(x, order='F')"
   ]
  },
  {
   "cell_type": "code",
   "execution_count": 22,
   "metadata": {},
   "outputs": [
    {
     "data": {
      "text/plain": [
       "array([ 0,  5, 10,  1,  6, 11,  2,  7, 12,  3,  8, 13,  4,  9, 14])"
      ]
     },
     "execution_count": 22,
     "metadata": {},
     "output_type": "execute_result"
    }
   ],
   "source": [
    "## 2) flatten 사용\n",
    "y = np.arange(15).reshape(3,5)\n",
    "y.flatten(order='F')"
   ]
  },
  {
   "cell_type": "code",
   "execution_count": 15,
   "metadata": {},
   "outputs": [
    {
     "name": "stdout",
     "output_type": "stream",
     "text": [
      "x의 값 [[100   1   2   3   4]\n",
      " [  5   6   7   8   9]\n",
      " [ 10  11  12  13  14]]\n",
      "y의 값 [[ 0  1  2  3  4]\n",
      " [ 5  6  7  8  9]\n",
      " [10 11 12 13 14]]\n"
     ]
    }
   ],
   "source": [
    "####################################################\n",
    "## ravel과 faltten의 차이\n",
    "#####################################################\n",
    "\n",
    "# 둘다 Temp 변수로 넣음\n",
    "temp_1 = x.ravel()\n",
    "temp_2 = y.flatten()\n",
    "\n",
    "# temp 변수의 첫번째 값을 100으로 변경함\n",
    "temp_1[0] = 100\n",
    "temp_2[0] = 100\n",
    "\n",
    "# 이때 x와 y의 값에 대한 변화 출력\n",
    "# temp를 변경하면 x도 함께 값이 변하나, y는 변하지 않는다\n",
    "print(\"x의 값\", x)\n",
    "print(\"y의 값\", y)"
   ]
  },
  {
   "cell_type": "code",
   "execution_count": 24,
   "metadata": {},
   "outputs": [
    {
     "name": "stdout",
     "output_type": "stream",
     "text": [
      "[[[ 0  1  2  3  4]\n",
      "  [ 5  6  7  8  9]\n",
      "  [10 11 12 13 14]]\n",
      "\n",
      " [[15 16 17 18 19]\n",
      "  [20 21 22 23 24]\n",
      "  [25 26 27 28 29]]]\n"
     ]
    },
    {
     "data": {
      "text/plain": [
       "array([ 0,  1,  2,  3,  4,  5,  6,  7,  8,  9, 10, 11, 12, 13, 14, 15, 16,\n",
       "       17, 18, 19, 20, 21, 22, 23, 24, 25, 26, 27, 28, 29])"
      ]
     },
     "execution_count": 24,
     "metadata": {},
     "output_type": "execute_result"
    }
   ],
   "source": [
    "## 3차원 배열 변환 하기\n",
    "z = np.arange(30).reshape(2,3,5)\n",
    "print(z)\n",
    "\n",
    "z.ravel()"
   ]
  },
  {
   "cell_type": "markdown",
   "metadata": {},
   "source": [
    "#### reshape 함수\n",
    "* **reshape한 후의 전체 원소 개수**와 **변환 전 개수**가 같아야 함\n",
    "* [사용 예시] 이미지 데이터 벡터화 등\n",
    "    * 이미지는 기본적으로 2차원 혹은 3차원(RGB)이지만 트레이닝을 위해 1차원으로 변경하여 사용"
   ]
  },
  {
   "cell_type": "code",
   "execution_count": 30,
   "metadata": {},
   "outputs": [
    {
     "name": "stdout",
     "output_type": "stream",
     "text": [
      "[ 0  1  2  3  4  5  6  7  8  9 10 11 12 13 14 15 16 17 18 19 20 21 22 23\n",
      " 24 25 26 27 28 29 30 31]\n",
      "[[[ 0  1  2  3]\n",
      "  [ 4  5  6  7]\n",
      "  [ 8  9 10 11]\n",
      "  [12 13 14 15]]\n",
      "\n",
      " [[16 17 18 19]\n",
      "  [20 21 22 23]\n",
      "  [24 25 26 27]\n",
      "  [28 29 30 31]]]\n"
     ]
    }
   ],
   "source": [
    "x = np.arange(32)\n",
    "print(x)\n",
    "\n",
    "x.reshape(8,4)\n",
    "\n",
    "# 아래와 같이 -1를 사용할 경우, 이미 2와 4를 썼기때문에\n",
    "# 남은 값이 4임을 유추할수 있어서 사용 가능 (빈번히 사용함)\n",
    "y = x.reshape(2, 4, -1)\n",
    "print(y)"
   ]
  }
 ],
 "metadata": {
  "kernelspec": {
   "display_name": "Python 3",
   "language": "python",
   "name": "python3"
  },
  "language_info": {
   "codemirror_mode": {
    "name": "ipython",
    "version": 3
   },
   "file_extension": ".py",
   "mimetype": "text/x-python",
   "name": "python",
   "nbconvert_exporter": "python",
   "pygments_lexer": "ipython3",
   "version": "3.7.3"
  }
 },
 "nbformat": 4,
 "nbformat_minor": 2
}
