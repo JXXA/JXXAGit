{
 "cells": [
  {
   "cell_type": "code",
   "execution_count": 1,
   "metadata": {},
   "outputs": [],
   "source": [
    "import numpy as np"
   ]
  },
  {
   "cell_type": "markdown",
   "metadata": {},
   "source": [
    "#### 개요) 선형대수 개념 다지기\n",
    "[선형대수가 머신러닝에서 중요한 이유 : 기초개념 쉽게 적어놓음](https://medium.com/@serithemage/%EC%84%A0%ED%98%95%EB%8C%80%EC%88%98%EA%B0%80-%EC%99%9C-%EB%A8%B8%EC%8B%A0%EB%9F%AC%EB%8B%9D%EC%97%90-%EC%9E%88%EC%96%B4%EC%84%9C-%EA%B0%80%EC%9E%A5-%EC%A4%91%EC%9A%94%ED%95%9C-%EC%88%98%ED%95%99%EC%9D%B8%EA%B0%80-9f793f82892e)."
   ]
  },
  {
   "cell_type": "markdown",
   "metadata": {},
   "source": [
    "## linalg Module을 활용한 선형대수 연산"
   ]
  },
  {
   "cell_type": "markdown",
   "metadata": {},
   "source": [
    "* np.linalg.inv\n",
    "    * 역행렬을 구할때 사용\n",
    "    * 모든 차원의 값이 같아야 연산 가능"
   ]
  },
  {
   "cell_type": "code",
   "execution_count": 6,
   "metadata": {},
   "outputs": [
    {
     "name": "stdout",
     "output_type": "stream",
     "text": [
      "[[0.20318206 0.52507939 0.4421748 ]\n",
      " [0.3270034  0.98077351 0.7834992 ]\n",
      " [0.45073034 0.62542594 0.55005905]]\n",
      "[[ 1.00000000e+00 -2.62416332e-16  3.17506102e-16]\n",
      " [-3.03416481e-15  1.00000000e+00  1.81955921e-16]\n",
      " [ 2.30010104e-15  3.75437434e-16  1.00000000e+00]]\n",
      "[[ 1.00000000e+00 -2.62416332e-16  3.17506102e-16]\n",
      " [-3.03416481e-15  1.00000000e+00  1.81955921e-16]\n",
      " [ 2.30010104e-15  3.75437434e-16  1.00000000e+00]]\n"
     ]
    }
   ],
   "source": [
    "x = np.random.rand(3,3)\n",
    "print(x)\n",
    "\n",
    "# 행렬끼리의 곱\n",
    "# @ 기호 또는 numpy의 matmul 사용\n",
    "\n",
    "# 역행렬 구하기\n",
    "print(x @ np.linalg.inv(x))\n",
    "print(np.matmul(x, np.linalg.inv(x)))"
   ]
  },
  {
   "cell_type": "markdown",
   "metadata": {},
   "source": [
    "#### nplinalg.solve\n",
    "* **Ax = B 형태**의 **선형대수식 솔루션** 제공\n",
    "\n",
    "\n",
    "* 예제) 호랑이와 홍합의 합 : 25 / 호랑이 다리 + 홍합 다리 합 : 64\n",
    "    * x + y 25\n",
    "    * 2x + 4y = 64\n",
    "    \n",
    "    -> 이때 호랑이와 홍합의 수는?\n",
    "    \n",
    "    \n",
    "* 풀이방식) 위의 식을 다음과 같이 풀이할 수 있다.\n",
    "\n",
    "$$\\begin{pmatrix} 1 & 1 \\\\ 2 & 4 \\end{pmatrix}\\begin{pmatrix} x \\\\ y \\end{pmatrix}= \\begin{pmatrix} 25 \\\\ 64 \\end{pmatrix}$$"
   ]
  },
  {
   "cell_type": "code",
   "execution_count": 16,
   "metadata": {},
   "outputs": [
    {
     "name": "stdout",
     "output_type": "stream",
     "text": [
      "[18.  7.]\n"
     ]
    },
    {
     "data": {
      "text/plain": [
       "True"
      ]
     },
     "execution_count": 16,
     "metadata": {},
     "output_type": "execute_result"
    }
   ],
   "source": [
    "# 주어진 식\n",
    "A = np.array([[1,1], [2,4]])\n",
    "\n",
    "# 결과 값\n",
    "B = np.array([25, 64])\n",
    "\n",
    "# solve를 이용하여 호랑이와 홍합의 수를 알아냄!\n",
    "x = np.linalg.solve(A, B)\n",
    "print(x)\n",
    "\n",
    "np.allclose(A@x, B)"
   ]
  }
 ],
 "metadata": {
  "kernelspec": {
   "display_name": "Python 3",
   "language": "python",
   "name": "python3"
  },
  "language_info": {
   "codemirror_mode": {
    "name": "ipython",
    "version": 3
   },
   "file_extension": ".py",
   "mimetype": "text/x-python",
   "name": "python",
   "nbconvert_exporter": "python",
   "pygments_lexer": "ipython3",
   "version": "3.7.3"
  }
 },
 "nbformat": 4,
 "nbformat_minor": 2
}
