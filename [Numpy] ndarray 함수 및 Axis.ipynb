{
 "cells": [
  {
   "cell_type": "code",
   "execution_count": 3,
   "metadata": {},
   "outputs": [],
   "source": [
    "import numpy as np"
   ]
  },
  {
   "cell_type": "markdown",
   "metadata": {},
   "source": [
    "## 1. 기본 함수\n",
    "\n",
    "> 연산\n",
    "* add, substract, multiply 등\n",
    "\n",
    "> 통계\n",
    "* mean, var, median, sid 등 \n",
    "\n",
    "> 집계\n",
    "* sum, cumsum 등\n",
    "\n",
    "> 조건식\n",
    "* any, all, where"
   ]
  },
  {
   "cell_type": "markdown",
   "metadata": {},
   "source": [
    "#### numpy doc\n",
    "- [numpy 공식 문서 링크](https://www.numpy.org/devdocs/reference/)"
   ]
  },
  {
   "cell_type": "code",
   "execution_count": 5,
   "metadata": {},
   "outputs": [
    {
     "name": "stdout",
     "output_type": "stream",
     "text": [
      "[[ 0  1  2  3  4]\n",
      " [ 5  6  7  8  9]\n",
      " [10 11 12 13 14]\n",
      " [15 16 17 18 19]]\n",
      "[[0.49657451 0.88647648 0.4233526  0.44661184 0.04895956]\n",
      " [0.66717913 0.25333338 0.33135849 0.07908459 0.54966903]\n",
      " [0.18594897 0.39693487 0.85883131 0.25622451 0.04717227]\n",
      " [0.8789637  0.59336817 0.08016928 0.17318945 0.70180066]]\n"
     ]
    }
   ],
   "source": [
    "x = np.arange(20).reshape(4,5)\n",
    "y = np.random.rand(20).reshape(4,5)\n",
    "\n",
    "print(x)\n",
    "print(y)"
   ]
  },
  {
   "cell_type": "markdown",
   "metadata": {},
   "source": [
    "#### 연산 함수\n",
    "* add, substract, multiply, divide"
   ]
  },
  {
   "cell_type": "code",
   "execution_count": 9,
   "metadata": {},
   "outputs": [
    {
     "data": {
      "text/plain": [
       "array([[-0.49657451,  0.11352352,  1.5766474 ,  2.55338816,  3.95104044],\n",
       "       [ 4.33282087,  5.74666662,  6.66864151,  7.92091541,  8.45033097],\n",
       "       [ 9.81405103, 10.60306513, 11.14116869, 12.74377549, 13.95282773],\n",
       "       [14.1210363 , 15.40663183, 16.91983072, 17.82681055, 18.29819934]])"
      ]
     },
     "execution_count": 9,
     "metadata": {},
     "output_type": "execute_result"
    }
   ],
   "source": [
    "# 함수 사용\n",
    "np.add(x,y)\n",
    "\n",
    "## 연산자로 사용하여 가능 !!\n",
    "x - y"
   ]
  },
  {
   "cell_type": "markdown",
   "metadata": {},
   "source": [
    "#### 통계 함수\n",
    "* mean, var, median, max, min 등 기초통계 관련 함수"
   ]
  },
  {
   "cell_type": "code",
   "execution_count": 14,
   "metadata": {},
   "outputs": [
    {
     "name": "stdout",
     "output_type": "stream",
     "text": [
      "0.4177601401082063\n",
      "0.8864764790081607\n"
     ]
    },
    {
     "data": {
      "text/plain": [
       "19"
      ]
     },
     "execution_count": 14,
     "metadata": {},
     "output_type": "execute_result"
    }
   ],
   "source": [
    "print(y.mean())\n",
    "print(y.max())\n",
    "\n",
    "## 가장 큰 값의 index 추출\n",
    "np.argmax(x)"
   ]
  },
  {
   "cell_type": "markdown",
   "metadata": {},
   "source": [
    "#### 집계 함수\n",
    "* sum, cumsum(누적합계) 등"
   ]
  },
  {
   "cell_type": "code",
   "execution_count": 22,
   "metadata": {},
   "outputs": [
    {
     "name": "stdout",
     "output_type": "stream",
     "text": [
      "[[ 0  1  2  3  4]\n",
      " [ 5  6  7  8  9]\n",
      " [10 11 12 13 14]\n",
      " [15 16 17 18 19]]\n",
      "[30 34 38 42 46]\n",
      "[10 35 60 85]\n"
     ]
    }
   ],
   "source": [
    "np.sum(y)\n",
    "np.cumsum(x) # 누적 합계임으로 누적 그래프 그리는 등 유용\n",
    "\n",
    "# sum에서도 누적 합계 가능 (axios 파라미터를 사용)\n",
    "print(x)\n",
    "\n",
    "print(np.sum(x, 1)) # 행\n",
    "print(np.sum(x, 0)) # 열"
   ]
  },
  {
   "cell_type": "markdown",
   "metadata": {},
   "source": [
    "#### any, all 함수\n",
    "* any : 특정 조건을 만족하는 것이 하나라도 있으면 True, 아니면 False (or)\n",
    "* all : 모든 원소가 특정 조건 만족 시 True, 아니면 False (and)"
   ]
  },
  {
   "cell_type": "code",
   "execution_count": 28,
   "metadata": {},
   "outputs": [
    {
     "name": "stdout",
     "output_type": "stream",
     "text": [
      "[-1.1103849   0.22583505  0.35680324  0.92181149  0.77346944 -0.1433117\n",
      "  0.06195795  0.03936693  0.74515668  1.04902946]\n"
     ]
    }
   ],
   "source": [
    "z = np.random.randn(10)\n",
    "print(z)"
   ]
  },
  {
   "cell_type": "code",
   "execution_count": 34,
   "metadata": {},
   "outputs": [
    {
     "data": {
      "text/plain": [
       "array([False,  True,  True,  True,  True, False,  True,  True,  True,\n",
       "        True])"
      ]
     },
     "execution_count": 34,
     "metadata": {},
     "output_type": "execute_result"
    }
   ],
   "source": [
    "z > 0"
   ]
  },
  {
   "cell_type": "code",
   "execution_count": 32,
   "metadata": {},
   "outputs": [
    {
     "data": {
      "text/plain": [
       "True"
      ]
     },
     "execution_count": 32,
     "metadata": {},
     "output_type": "execute_result"
    }
   ],
   "source": [
    "np.any(z>0)"
   ]
  },
  {
   "cell_type": "code",
   "execution_count": 31,
   "metadata": {
    "scrolled": true
   },
   "outputs": [
    {
     "data": {
      "text/plain": [
       "True"
      ]
     },
     "execution_count": 31,
     "metadata": {},
     "output_type": "execute_result"
    }
   ],
   "source": [
    "np.all(z != 0)"
   ]
  },
  {
   "cell_type": "markdown",
   "metadata": {},
   "source": [
    "#### where 함수\n",
    "* 빈번히 사용되는 함수 중 하나\n",
    "* If문과 동일 기능이라고 생각하면 됨"
   ]
  },
  {
   "cell_type": "code",
   "execution_count": 36,
   "metadata": {},
   "outputs": [
    {
     "name": "stdout",
     "output_type": "stream",
     "text": [
      "[ 0.37220684  0.75790423 -0.0596916  -1.04730281 -0.57261404 -0.42373611\n",
      "  0.18109225  1.8258141  -1.75702194 -1.09638365  0.14611031  0.00618433\n",
      " -1.46603544  1.17591239]\n"
     ]
    }
   ],
   "source": [
    "z = np.random.randn(14)\n",
    "print(z)"
   ]
  },
  {
   "cell_type": "code",
   "execution_count": 38,
   "metadata": {},
   "outputs": [
    {
     "data": {
      "text/plain": [
       "array(['0.3722068378519641', '0.7579042339340334', '0보다 작음', '0보다 작음',\n",
       "       '0보다 작음', '0보다 작음', '0.18109224989422035', '1.8258141044303422',\n",
       "       '0보다 작음', '0보다 작음', '0.14611030792384572', '0.006184328583506296',\n",
       "       '0보다 작음', '1.1759123888859297'], dtype='<U32')"
      ]
     },
     "execution_count": 38,
     "metadata": {},
     "output_type": "execute_result"
    }
   ],
   "source": [
    "# if문과 비슷한 느낌\n",
    "# (조건, true, false) 형식으로 사용\n",
    "np.where(z > 0, z, \"0보다 작음\")"
   ]
  },
  {
   "cell_type": "markdown",
   "metadata": {},
   "source": [
    "## 2. axis 정의 및 함수 내 파라미터 활용\n",
    "* axios는 기본적으로 **아래 차원별 0,1,2....n 값**을 가진다\n",
    "* ex. x.reshape(3,5, 4)\n",
    "*     axios 값 최대 : axios=2"
   ]
  },
  {
   "cell_type": "code",
   "execution_count": 43,
   "metadata": {},
   "outputs": [
    {
     "name": "stdout",
     "output_type": "stream",
     "text": [
      "[ 0  1  2  3  4  5  6  7  8  9 10 11 12 13 14]\n"
     ]
    },
    {
     "data": {
      "text/plain": [
       "105"
      ]
     },
     "execution_count": 43,
     "metadata": {},
     "output_type": "execute_result"
    }
   ],
   "source": [
    "x = np.arange(15)\n",
    "print(x)\n",
    "\n",
    "np.sum(x, axis=0)"
   ]
  },
  {
   "cell_type": "code",
   "execution_count": 48,
   "metadata": {},
   "outputs": [
    {
     "name": "stdout",
     "output_type": "stream",
     "text": [
      "[[ 0  1  2  3  4]\n",
      " [ 5  6  7  8  9]\n",
      " [10 11 12 13 14]]\n"
     ]
    },
    {
     "data": {
      "text/plain": [
       "array([15, 18, 21, 24, 27])"
      ]
     },
     "execution_count": 48,
     "metadata": {},
     "output_type": "execute_result"
    }
   ],
   "source": [
    "y = x.reshape(3,5)\n",
    "print(y)\n",
    "\n",
    "np.sum(y, 0)"
   ]
  },
  {
   "cell_type": "code",
   "execution_count": 58,
   "metadata": {},
   "outputs": [
    {
     "name": "stdout",
     "output_type": "stream",
     "text": [
      "[[[ 0  1  2]\n",
      "  [ 3  4  5]\n",
      "  [ 6  7  8]\n",
      "  [ 9 10 11]]\n",
      "\n",
      " [[12 13 14]\n",
      "  [15 16 17]\n",
      "  [18 19 20]\n",
      "  [21 22 23]]\n",
      "\n",
      " [[24 25 26]\n",
      "  [27 28 29]\n",
      "  [30 31 32]\n",
      "  [33 34 35]]] \n",
      "\n",
      "axis 0은 각 원소별 매핑\n",
      " [[36 39 42]\n",
      " [45 48 51]\n",
      " [54 57 60]\n",
      " [63 66 69]] \n",
      "\n",
      "axis 1은 열 방향으로 순차 진행\n",
      " [[ 18  22  26]\n",
      " [ 66  70  74]\n",
      " [114 118 122]] \n",
      "\n",
      "axis 2은 행 방향으로 순차 진행\n",
      " [[  3  12  21  30]\n",
      " [ 39  48  57  66]\n",
      " [ 75  84  93 102]] \n",
      "\n"
     ]
    }
   ],
   "source": [
    "z = np.arange(36).reshape(3,4,3)\n",
    "print(z, \"\\n\")\n",
    "\n",
    "print(\"axis 0은 각 원소별 매핑\\n\", np.sum(z, 0), \"\\n\")\n",
    "print(\"axis 1은 열 방향으로 순차 진행\\n\", np.sum(z, 1), \"\\n\")\n",
    "print(\"axis 2은 행 방향으로 순차 진행\\n\", np.sum(z, 2), \"\\n\")"
   ]
  },
  {
   "cell_type": "markdown",
   "metadata": {},
   "source": [
    "#### axis 값이 Tuple인 경우\n",
    "* 해당 Tuple에 명시된 모든 axis에 대해 연산 수행"
   ]
  },
  {
   "cell_type": "code",
   "execution_count": 65,
   "metadata": {},
   "outputs": [
    {
     "name": "stdout",
     "output_type": "stream",
     "text": [
      "[[[ 0  1  2]\n",
      "  [ 3  4  5]\n",
      "  [ 6  7  8]\n",
      "  [ 9 10 11]]\n",
      "\n",
      " [[12 13 14]\n",
      "  [15 16 17]\n",
      "  [18 19 20]\n",
      "  [21 22 23]]\n",
      "\n",
      " [[24 25 26]\n",
      "  [27 28 29]\n",
      "  [30 31 32]\n",
      "  [33 34 35]]]\n"
     ]
    },
    {
     "data": {
      "text/plain": [
       "array([117, 144, 171, 198])"
      ]
     },
     "execution_count": 65,
     "metadata": {},
     "output_type": "execute_result"
    }
   ],
   "source": [
    "print(z)\n",
    "\n",
    "np.sum(z, (0,2))"
   ]
  }
 ],
 "metadata": {
  "kernelspec": {
   "display_name": "Python 3",
   "language": "python",
   "name": "python3"
  },
  "language_info": {
   "codemirror_mode": {
    "name": "ipython",
    "version": 3
   },
   "file_extension": ".py",
   "mimetype": "text/x-python",
   "name": "python",
   "nbconvert_exporter": "python",
   "pygments_lexer": "ipython3",
   "version": "3.7.3"
  }
 },
 "nbformat": 4,
 "nbformat_minor": 2
}
