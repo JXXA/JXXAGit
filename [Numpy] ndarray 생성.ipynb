{
 "cells": [
  {
   "cell_type": "markdown",
   "metadata": {},
   "source": [
    "## 1. ndarray 생성"
   ]
  },
  {
   "cell_type": "code",
   "execution_count": 1,
   "metadata": {},
   "outputs": [],
   "source": [
    "import numpy as np\n",
    "import matplotlib.pyplot as plt"
   ]
  },
  {
   "cell_type": "code",
   "execution_count": 3,
   "metadata": {
    "scrolled": true
   },
   "outputs": [
    {
     "data": {
      "text/plain": [
       "[<matplotlib.lines.Line2D at 0x1dca84e1390>]"
      ]
     },
     "execution_count": 3,
     "metadata": {},
     "output_type": "execute_result"
    },
    {
     "data": {
      "image/png": "[encoded data removed]",
      "text/plain": [
       "<Figure size 432x288 with 1 Axes>"
      ]
     },
     "metadata": {
      "needs_background": "light"
     },
     "output_type": "display_data"
    }
   ],
   "source": [
    "x = np.array([1, 2, 3])\n",
    "y = np.array([2, 4, 6])\n",
    "\n",
    "plt.plot(x, y)"
   ]
  },
  {
   "cell_type": "markdown",
   "metadata": {},
   "source": [
    "#### 1) ndarray 생성 방법"
   ]
  },
  {
   "cell_type": "code",
   "execution_count": 17,
   "metadata": {},
   "outputs": [
    {
     "name": "stdout",
     "output_type": "stream",
     "text": [
      "[[2 4 6]\n",
      " [3 6 9]]\n"
     ]
    }
   ],
   "source": [
    "# 1) np.array 생성 (자주 사용하지 않음)\n",
    "z = np.array([[2, 4, 6], [3, 6, 9]])\n",
    "print(z)"
   ]
  },
  {
   "cell_type": "code",
   "execution_count": 18,
   "metadata": {},
   "outputs": [
    {
     "data": {
      "text/plain": [
       "array([1, 2, 3, 4, 5, 6, 7, 8, 9])"
      ]
     },
     "execution_count": 18,
     "metadata": {},
     "output_type": "execute_result"
    }
   ],
   "source": [
    "# 2) np.arange 생성\n",
    "np.arange(1, 10) #array([1, 2, 3, 4, 5, 6, 7, 8, 9])"
   ]
  },
  {
   "cell_type": "code",
   "execution_count": 19,
   "metadata": {},
   "outputs": [
    {
     "data": {
      "text/plain": [
       "array([[[0., 0., 0., 0., 0., 0., 0., 0.],\n",
       "        [0., 0., 0., 0., 0., 0., 0., 0.],\n",
       "        [0., 0., 0., 0., 0., 0., 0., 0.]],\n",
       "\n",
       "       [[0., 0., 0., 0., 0., 0., 0., 0.],\n",
       "        [0., 0., 0., 0., 0., 0., 0., 0.],\n",
       "        [0., 0., 0., 0., 0., 0., 0., 0.]]])"
      ]
     },
     "execution_count": 19,
     "metadata": {},
     "output_type": "execute_result"
    }
   ],
   "source": [
    "# 3) np.ones 및 np.zeros \n",
    "# 1 또는 0으로 채워진 원하는 차수만큼의 행렬 생성\n",
    "\n",
    "# ((행수, 열수))\n",
    "\n",
    "np.ones((2,3)) # 2차원\n",
    "np.zeros((2,3,8)) # 3차원"
   ]
  },
  {
   "cell_type": "code",
   "execution_count": 20,
   "metadata": {},
   "outputs": [
    {
     "data": {
      "text/plain": [
       "array([[7, 7, 7, 7],\n",
       "       [7, 7, 7, 7],\n",
       "       [7, 7, 7, 7]])"
      ]
     },
     "execution_count": 20,
     "metadata": {},
     "output_type": "execute_result"
    }
   ],
   "source": [
    "# 4) np.empty 또는 np.full 생성\n",
    "\n",
    "np.empty((3,4))\n",
    "np.full((3,4), 7) # 7값으로 이루어진 3행 4열"
   ]
  },
  {
   "cell_type": "code",
   "execution_count": 21,
   "metadata": {},
   "outputs": [
    {
     "data": {
      "text/plain": [
       "array([[1., 0., 0.],\n",
       "       [0., 1., 0.],\n",
       "       [0., 0., 1.]])"
      ]
     },
     "execution_count": 21,
     "metadata": {},
     "output_type": "execute_result"
    }
   ],
   "source": [
    "# 5) np.eye 생성\n",
    "np.eye(3)"
   ]
  },
  {
   "cell_type": "code",
   "execution_count": 22,
   "metadata": {},
   "outputs": [
    {
     "data": {
      "text/plain": [
       "array([ 1. ,  5.5, 10. ])"
      ]
     },
     "execution_count": 22,
     "metadata": {},
     "output_type": "execute_result"
    }
   ],
   "source": [
    "# 6) np.linspace 생성\n",
    "np.linspace(1, 10, 3) # 1부터 10까지 3등분"
   ]
  },
  {
   "cell_type": "code",
   "execution_count": 23,
   "metadata": {
    "scrolled": true
   },
   "outputs": [
    {
     "data": {
      "text/plain": [
       "array([ 1.,  4.,  7., 10.])"
      ]
     },
     "execution_count": 23,
     "metadata": {},
     "output_type": "execute_result"
    }
   ],
   "source": [
    "np.linspace(1, 10, 4) # 1부터 10까지 4등분"
   ]
  },
  {
   "cell_type": "markdown",
   "metadata": {},
   "source": [
    "#### 2) reshape 함수\n",
    "* ndarray의 형태, 차원을 바꾸기 위해 활용"
   ]
  },
  {
   "cell_type": "code",
   "execution_count": 34,
   "metadata": {
    "scrolled": true
   },
   "outputs": [
    {
     "data": {
      "text/plain": [
       "array([[[ 1],\n",
       "        [ 2],\n",
       "        [ 3]],\n",
       "\n",
       "       [[ 4],\n",
       "        [ 5],\n",
       "        [ 6]],\n",
       "\n",
       "       [[ 7],\n",
       "        [ 8],\n",
       "        [ 9]],\n",
       "\n",
       "       [[10],\n",
       "        [11],\n",
       "        [12]],\n",
       "\n",
       "       [[13],\n",
       "        [14],\n",
       "        [15]]])"
      ]
     },
     "execution_count": 34,
     "metadata": {},
     "output_type": "execute_result"
    }
   ],
   "source": [
    "x = np.arange(1, 16)\n",
    "\n",
    "# 3행 5열 행렬로 변환\n",
    "x.reshape(5,3,1) # 3차원 5개의 3행 1열로 생성\n",
    "\n",
    "# x.reshape(5,4) -> 오류 발생\n",
    "# 5행 4열 생성 시 최소 20개의 숫자가 필요\n",
    "# 따라서 reshape 함수 사용 시\n",
    "# 생성하려는 행렬의 곱 (5*4=20)이 범위안에 존재하는지 확인 필요"
   ]
  },
  {
   "cell_type": "markdown",
   "metadata": {},
   "source": [
    "#### 3) random 함수를 이용한 생성\n",
    "\n",
    "> 대표 사용 3가지\n",
    "* rand\n",
    "* randn (정규분포 범위내에서 랜덤값 생성)\n",
    "* randint (주어진 정수값 범위내에서 랜덤값 생성)\n",
    "\n",
    "> 그 외\n",
    "* seed (랜덤한 값을 동일하게 생성할 경우 사용 - 실험 등)\n",
    "* choice (주어진 1차원 ndarray로부터 랜덤 샘플링)"
   ]
  },
  {
   "cell_type": "code",
   "execution_count": 3,
   "metadata": {},
   "outputs": [
    {
     "data": {
      "text/plain": [
       "array([[0.37013885, 0.00540341, 0.31326833],\n",
       "       [0.15020355, 0.33780548, 0.09408902]])"
      ]
     },
     "execution_count": 3,
     "metadata": {},
     "output_type": "execute_result"
    }
   ],
   "source": [
    "np.random.rand(2, 3)"
   ]
  },
  {
   "cell_type": "code",
   "execution_count": 10,
   "metadata": {},
   "outputs": [
    {
     "data": {
      "text/plain": [
       "array([[ 0.02857623,  1.07807245],\n",
       "       [-0.41272934,  0.6735334 ]])"
      ]
     },
     "execution_count": 10,
     "metadata": {},
     "output_type": "execute_result"
    },
    {
     "data": {
      "image/png": "[encoded data removed]",
      "text/plain": [
       "<Figure size 432x288 with 1 Axes>"
      ]
     },
     "metadata": {
      "needs_background": "light"
     },
     "output_type": "display_data"
    }
   ],
   "source": [
    "# 정규분포에 의한 랜덤값 생성\n",
    "plt.plot(np.random.randn(6))\n",
    "\n",
    "np.random.randn(2, 2)"
   ]
  },
  {
   "cell_type": "code",
   "execution_count": 11,
   "metadata": {
    "scrolled": true
   },
   "outputs": [
    {
     "data": {
      "text/plain": [
       "array([[16, 12, 30, 14, 88],\n",
       "       [67, 57, 39, 95, 92],\n",
       "       [93, 55, 97, 56, 56]])"
      ]
     },
     "execution_count": 11,
     "metadata": {},
     "output_type": "execute_result"
    }
   ],
   "source": [
    "# 정수 범위 내 랜덤값 생성\n",
    "np.random.randint(1, 100, size=(3,5))"
   ]
  },
  {
   "cell_type": "markdown",
   "metadata": {},
   "source": [
    "#### seed\n",
    "* 랜덤한 값을 동일하게 다시 생성하고자 할때 사용"
   ]
  },
  {
   "cell_type": "code",
   "execution_count": 21,
   "metadata": {},
   "outputs": [
    {
     "data": {
      "text/plain": [
       "array([[-1.74976547,  0.3426804 ,  1.1530358 ],\n",
       "       [-0.25243604,  0.98132079,  0.51421884]])"
      ]
     },
     "execution_count": 21,
     "metadata": {},
     "output_type": "execute_result"
    }
   ],
   "source": [
    "np.random.seed(100) # 파라미터는 고정 Nubmer로 쓰인다.\n",
    "np.random.randn(2, 3)"
   ]
  },
  {
   "cell_type": "markdown",
   "metadata": {},
   "source": [
    "#### choice\n",
    "* 주어진 1차원 ndarray로부터 랜덤 샘플링\n",
    "* 정수가 주어진 경우, np.arange(숫자)로 간주"
   ]
  },
  {
   "cell_type": "code",
   "execution_count": 23,
   "metadata": {},
   "outputs": [
    {
     "data": {
      "text/plain": [
       "array([[24, 15, 60, 58],\n",
       "       [16,  9, 93, 86],\n",
       "       [ 2, 27,  4, 31]])"
      ]
     },
     "execution_count": 23,
     "metadata": {},
     "output_type": "execute_result"
    }
   ],
   "source": [
    "np.random.choice(100, size=(3,4))"
   ]
  },
  {
   "cell_type": "code",
   "execution_count": 30,
   "metadata": {},
   "outputs": [
    {
     "data": {
      "text/plain": [
       "array([[1. , 6.2],\n",
       "       [3. , 6.4]])"
      ]
     },
     "execution_count": 30,
     "metadata": {},
     "output_type": "execute_result"
    }
   ],
   "source": [
    "x = np.array([1,3,4,2,6.2,6.4])\n",
    "\n",
    "np.random.choice(x, size=(2,2), replace=False)"
   ]
  },
  {
   "cell_type": "markdown",
   "metadata": {},
   "source": [
    "#### 확률 분포에 따른 랜덤 생성\n",
    "* unifrom\n",
    "* normal"
   ]
  },
  {
   "cell_type": "code",
   "execution_count": 31,
   "metadata": {},
   "outputs": [
    {
     "data": {
      "text/plain": [
       "array([[2.20760908, 1.21029537, 1.76388689, 1.07295211, 2.78082313],\n",
       "       [2.96184171, 1.11988398, 2.78109189, 2.153803  , 2.48495938],\n",
       "       [2.26036787, 2.16368438, 1.04087826, 1.42005316, 2.08936976],\n",
       "       [2.53823034, 1.50139046, 1.57179138, 2.70479018, 2.95001299]])"
      ]
     },
     "execution_count": 31,
     "metadata": {},
     "output_type": "execute_result"
    }
   ],
   "source": [
    "np.random.uniform(1.0, 3.0, size=(4, 5))"
   ]
  },
  {
   "cell_type": "code",
   "execution_count": 34,
   "metadata": {},
   "outputs": [
    {
     "data": {
      "text/plain": [
       "array([[-0.30609783,  0.83850061, -1.69084816,  1.15117366],\n",
       "       [-1.02933685, -0.51099219, -2.36027053,  0.10359513],\n",
       "       [ 1.73881773,  1.24187584,  0.13241276,  0.57779396]])"
      ]
     },
     "execution_count": 34,
     "metadata": {},
     "output_type": "execute_result"
    }
   ],
   "source": [
    "np.random.normal(size=(3, 4))"
   ]
  }
 ],
 "metadata": {
  "kernelspec": {
   "display_name": "Python 3",
   "language": "python",
   "name": "python3"
  },
  "language_info": {
   "codemirror_mode": {
    "name": "ipython",
    "version": 3
   },
   "file_extension": ".py",
   "mimetype": "text/x-python",
   "name": "python",
   "nbconvert_exporter": "python",
   "pygments_lexer": "ipython3",
   "version": "3.7.3"
  }
 },
 "nbformat": 4,
 "nbformat_minor": 2
}
