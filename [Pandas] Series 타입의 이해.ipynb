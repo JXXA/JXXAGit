{
 "cells": [
  {
   "cell_type": "code",
   "execution_count": 1,
   "metadata": {},
   "outputs": [],
   "source": [
    "import numpy as np\n",
    "import pandas as pd"
   ]
  },
  {
   "cell_type": "markdown",
   "metadata": {},
   "source": [
    "## 1. Series 정의\n",
    "\n",
    "* index를 지정하지 않을 시, **ndarray와 같이 0-based index** 생성\n",
    "* index를 지정할 경우 **명시적으로 지정된 index** 사용\n",
    "* 같은 타입의 0개 이상 데이터를 가질 수 있음"
   ]
  },
  {
   "cell_type": "markdown",
   "metadata": {},
   "source": [
    "#### Series 생성"
   ]
  },
  {
   "cell_type": "code",
   "execution_count": 19,
   "metadata": {},
   "outputs": [
    {
     "name": "stdout",
     "output_type": "stream",
     "text": [
      "0    1\n",
      "1    2\n",
      "2    3\n",
      "dtype: int64\n",
      "0    0\n",
      "1    1\n",
      "2    2\n",
      "3    3\n",
      "4    4\n",
      "dtype: int32\n"
     ]
    }
   ],
   "source": [
    "s1 = pd.Series([1,2,3])\n",
    "s2 = pd.Series(np.arange(5))\n",
    "\n",
    "print(s1)\n",
    "print(s2)"
   ]
  },
  {
   "cell_type": "code",
   "execution_count": 20,
   "metadata": {
    "scrolled": true
   },
   "outputs": [
    {
     "name": "stdout",
     "output_type": "stream",
     "text": [
      "a    1\n",
      "m    2\n",
      "k    3\n",
      "dtype: int64\n",
      "100    0\n",
      "101    1\n",
      "102    2\n",
      "103    3\n",
      "104    4\n",
      "dtype: int16\n"
     ]
    }
   ],
   "source": [
    "st = pd.Series([1,2,3], ['a', 'm', 'k'])\n",
    "print(st)\n",
    "\n",
    "sa = pd.Series(np.arange(5), np.arange(100, 105), dtype=np.int16)\n",
    "print(sa)"
   ]
  },
  {
   "cell_type": "markdown",
   "metadata": {},
   "source": [
    "#### index 활용"
   ]
  },
  {
   "cell_type": "code",
   "execution_count": 36,
   "metadata": {
    "scrolled": true
   },
   "outputs": [
    {
     "name": "stdout",
     "output_type": "stream",
     "text": [
      "Int64Index([100, 101, 102, 103, 104], dtype='int64')\n",
      "[ 0  1 70  3  4]\n",
      "sa.index[2] 값: 102\n",
      "sa.values[3] 값: 3\n"
     ]
    }
   ],
   "source": [
    "# 1) 데이터 추출\n",
    "print(sa.index)\n",
    "print(sa.values)\n",
    "\n",
    "print(\"sa.index[2] 값:\", sa.index[2])\n",
    "print(\"sa.values[3] 값:\", sa.values[3])"
   ]
  },
  {
   "cell_type": "code",
   "execution_count": 37,
   "metadata": {},
   "outputs": [
    {
     "name": "stdout",
     "output_type": "stream",
     "text": [
      "100     0\n",
      "101     1\n",
      "102    70\n",
      "103     3\n",
      "104     4\n",
      "dtype: int16\n"
     ]
    }
   ],
   "source": [
    "# 인덱스를 통한 데이터 Update\n",
    "sa[102] = 70\n",
    "print(sa)"
   ]
  },
  {
   "cell_type": "code",
   "execution_count": 38,
   "metadata": {
    "scrolled": true
   },
   "outputs": [
    {
     "name": "stdout",
     "output_type": "stream",
     "text": [
      "100    0\n",
      "101    1\n",
      "102    2\n",
      "103    3\n",
      "104    4\n",
      "dtype: int32\n"
     ]
    }
   ],
   "source": [
    "# 인덱스 재사용\n",
    "s7 = pd.Series(np.arange(5), sa.index)\n",
    "print(s7)"
   ]
  },
  {
   "cell_type": "markdown",
   "metadata": {},
   "source": [
    "## 2. Series 함수 및 연산"
   ]
  },
  {
   "cell_type": "markdown",
   "metadata": {},
   "source": [
    "#### Series 함수를 활용한 데이터 분석"
   ]
  },
  {
   "cell_type": "code",
   "execution_count": 2,
   "metadata": {},
   "outputs": [
    {
     "data": {
      "text/plain": [
       "0     1.0\n",
       "1     2.0\n",
       "2     3.0\n",
       "3     5.0\n",
       "4     3.0\n",
       "5     3.0\n",
       "6     3.0\n",
       "7     2.0\n",
       "8     5.0\n",
       "9     1.0\n",
       "10    5.0\n",
       "11    7.0\n",
       "12    NaN\n",
       "dtype: float64"
      ]
     },
     "execution_count": 2,
     "metadata": {},
     "output_type": "execute_result"
    }
   ],
   "source": [
    "s = pd.Series([1,2,3,5,3,3,3,2,5,1,5,7,np.NaN])\n",
    "s"
   ]
  },
  {
   "cell_type": "code",
   "execution_count": 9,
   "metadata": {},
   "outputs": [
    {
     "name": "stdout",
     "output_type": "stream",
     "text": [
      "13\n",
      "(13,)\n",
      "[ 1.  2.  3.  5.  7. nan]\n",
      "12\n"
     ]
    }
   ],
   "source": [
    "print(s.size) # 객체의 길이\n",
    "print(s.shape) # 튜플 형태 반환\n",
    "print(s.unique()) # 중복이 제거된 uniq한 값 반환\n",
    "print(s.count()) # Null을 제외한 개수 반환"
   ]
  },
  {
   "cell_type": "code",
   "execution_count": 15,
   "metadata": {},
   "outputs": [
    {
     "data": {
      "text/plain": [
       "2.0"
      ]
     },
     "execution_count": 15,
     "metadata": {},
     "output_type": "execute_result"
    }
   ],
   "source": [
    "# 아래 numpy로 생성할 경우, Nan값을 연산하지 못해 오류 발생\n",
    "a = np.array([2,2,2,2,np.NaN])\n",
    "a.mean() # 결과값으로 nan 출력됨\n",
    "\n",
    "b = pd.Series(a)\n",
    "b.mean()"
   ]
  },
  {
   "cell_type": "code",
   "execution_count": 20,
   "metadata": {},
   "outputs": [
    {
     "data": {
      "text/plain": [
       "11    7.0\n",
       "12    NaN\n",
       "dtype: float64"
      ]
     },
     "execution_count": 20,
     "metadata": {},
     "output_type": "execute_result"
    }
   ],
   "source": [
    "# 데이터의 빈도수 Count\n",
    "s.value_counts()\n",
    "\n",
    "# index 값을 이용하여 멀티값 추출\n",
    "s[[5,7,8]]\n",
    "s[[5,7,8]].value_counts()\n",
    "\n",
    "s.head(n=2)\n",
    "s.tail(n=2)"
   ]
  },
  {
   "cell_type": "markdown",
   "metadata": {},
   "source": [
    "#### Series 데이터 연산"
   ]
  },
  {
   "cell_type": "code",
   "execution_count": 23,
   "metadata": {},
   "outputs": [],
   "source": [
    "s1 = pd.Series([1,2,3,4], ['a','b','c','d'])\n",
    "s2 = pd.Series([6,3,2,1], ['d','c','b','a'])"
   ]
  },
  {
   "cell_type": "code",
   "execution_count": 24,
   "metadata": {},
   "outputs": [
    {
     "data": {
      "text/plain": [
       "a     2\n",
       "b     4\n",
       "c     6\n",
       "d    10\n",
       "dtype: int64"
      ]
     },
     "execution_count": 24,
     "metadata": {},
     "output_type": "execute_result"
    }
   ],
   "source": [
    "# 기본 산술연산\n",
    "s1 + s2"
   ]
  },
  {
   "cell_type": "code",
   "execution_count": 25,
   "metadata": {},
   "outputs": [
    {
     "data": {
      "text/plain": [
       "a     1\n",
       "b     4\n",
       "c     9\n",
       "d    16\n",
       "dtype: int64"
      ]
     },
     "execution_count": 25,
     "metadata": {},
     "output_type": "execute_result"
    }
   ],
   "source": [
    "s1 ** 2"
   ]
  },
  {
   "cell_type": "code",
   "execution_count": 26,
   "metadata": {},
   "outputs": [],
   "source": [
    "# 인덱스 pair가 맞지 않을 경우 Nan으로 생성됨\n",
    "s1['k'] = 7\n",
    "s2['e'] = 2"
   ]
  },
  {
   "cell_type": "code",
   "execution_count": 27,
   "metadata": {},
   "outputs": [
    {
     "data": {
      "text/plain": [
       "a     2.0\n",
       "b     4.0\n",
       "c     6.0\n",
       "d    10.0\n",
       "e     NaN\n",
       "k     NaN\n",
       "dtype: float64"
      ]
     },
     "execution_count": 27,
     "metadata": {},
     "output_type": "execute_result"
    }
   ],
   "source": [
    "s1 + s2"
   ]
  }
 ],
 "metadata": {
  "kernelspec": {
   "display_name": "Python 3",
   "language": "python",
   "name": "python3"
  },
  "language_info": {
   "codemirror_mode": {
    "name": "ipython",
    "version": 3
   },
   "file_extension": ".py",
   "mimetype": "text/x-python",
   "name": "python",
   "nbconvert_exporter": "python",
   "pygments_lexer": "ipython3",
   "version": "3.7.3"
  }
 },
 "nbformat": 4,
 "nbformat_minor": 2
}
