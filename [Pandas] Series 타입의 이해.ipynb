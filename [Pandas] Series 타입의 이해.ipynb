{
 "cells": [
  {
   "cell_type": "code",
   "execution_count": 3,
   "metadata": {},
   "outputs": [],
   "source": [
    "import numpy as np\n",
    "import pandas as pd"
   ]
  },
  {
   "cell_type": "markdown",
   "metadata": {},
   "source": [
    "## 1. Series 정의\n",
    "\n",
    "* index를 지정하지 않을 시, **ndarray와 같이 0-based index** 생성\n",
    "* index를 지정할 경우 **명시적으로 지정된 index** 사용\n",
    "* 같은 타입의 0개 이상 데이터를 가질 수 있음"
   ]
  },
  {
   "cell_type": "markdown",
   "metadata": {},
   "source": [
    "#### Series 생성"
   ]
  },
  {
   "cell_type": "code",
   "execution_count": 19,
   "metadata": {},
   "outputs": [
    {
     "name": "stdout",
     "output_type": "stream",
     "text": [
      "0    1\n",
      "1    2\n",
      "2    3\n",
      "dtype: int64\n",
      "0    0\n",
      "1    1\n",
      "2    2\n",
      "3    3\n",
      "4    4\n",
      "dtype: int32\n"
     ]
    }
   ],
   "source": [
    "s1 = pd.Series([1,2,3])\n",
    "s2 = pd.Series(np.arange(5))\n",
    "\n",
    "print(s1)\n",
    "print(s2)"
   ]
  },
  {
   "cell_type": "code",
   "execution_count": 20,
   "metadata": {
    "scrolled": true
   },
   "outputs": [
    {
     "name": "stdout",
     "output_type": "stream",
     "text": [
      "a    1\n",
      "m    2\n",
      "k    3\n",
      "dtype: int64\n",
      "100    0\n",
      "101    1\n",
      "102    2\n",
      "103    3\n",
      "104    4\n",
      "dtype: int16\n"
     ]
    }
   ],
   "source": [
    "st = pd.Series([1,2,3], ['a', 'm', 'k'])\n",
    "print(st)\n",
    "\n",
    "sa = pd.Series(np.arange(5), np.arange(100, 105), dtype=np.int16)\n",
    "print(sa)"
   ]
  },
  {
   "cell_type": "markdown",
   "metadata": {},
   "source": [
    "#### index 활용"
   ]
  },
  {
   "cell_type": "code",
   "execution_count": 36,
   "metadata": {
    "scrolled": true
   },
   "outputs": [
    {
     "name": "stdout",
     "output_type": "stream",
     "text": [
      "Int64Index([100, 101, 102, 103, 104], dtype='int64')\n",
      "[ 0  1 70  3  4]\n",
      "sa.index[2] 값: 102\n",
      "sa.values[3] 값: 3\n"
     ]
    }
   ],
   "source": [
    "# 1) 데이터 추출\n",
    "print(sa.index)\n",
    "print(sa.values)\n",
    "\n",
    "print(\"sa.index[2] 값:\", sa.index[2])\n",
    "print(\"sa.values[3] 값:\", sa.values[3])"
   ]
  },
  {
   "cell_type": "code",
   "execution_count": 37,
   "metadata": {},
   "outputs": [
    {
     "name": "stdout",
     "output_type": "stream",
     "text": [
      "100     0\n",
      "101     1\n",
      "102    70\n",
      "103     3\n",
      "104     4\n",
      "dtype: int16\n"
     ]
    }
   ],
   "source": [
    "# 인덱스를 통한 데이터 Update\n",
    "sa[102] = 70\n",
    "print(sa)"
   ]
  },
  {
   "cell_type": "code",
   "execution_count": 38,
   "metadata": {},
   "outputs": [
    {
     "name": "stdout",
     "output_type": "stream",
     "text": [
      "100    0\n",
      "101    1\n",
      "102    2\n",
      "103    3\n",
      "104    4\n",
      "dtype: int32\n"
     ]
    }
   ],
   "source": [
    "# 인덱스 재사용\n",
    "s7 = pd.Series(np.arange(5), sa.index)\n",
    "print(s7)"
   ]
  }
 ],
 "metadata": {
  "kernelspec": {
   "display_name": "Python 3",
   "language": "python",
   "name": "python3"
  },
  "language_info": {
   "codemirror_mode": {
    "name": "ipython",
    "version": 3
   },
   "file_extension": ".py",
   "mimetype": "text/x-python",
   "name": "python",
   "nbconvert_exporter": "python",
   "pygments_lexer": "ipython3",
   "version": "3.7.3"
  }
 },
 "nbformat": 4,
 "nbformat_minor": 2
}
