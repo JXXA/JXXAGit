{
 "cells": [
  {
   "cell_type": "markdown",
   "metadata": {},
   "source": [
    "## Python Programming 기본 내역 정리\n",
    "\n",
    "\n",
    "  > **데이터 타입**\n",
    "  \n",
    "        1) List\n",
    "        2) Tuple\n",
    "        3) Dictionery\n",
    "    \n",
    "  > **Function**\n",
    "        \n",
    "        1) Parameter\n",
    "            - Default Params\n",
    "            - Keyword Params\n",
    "            - 동적 인자\n",
    "            \n",
    "        2) lambda\n",
    "            - filter\n",
    "            - map\n",
    "            - reduce\n",
    "            \n",
    "  > **정규 표현식**\n",
    "  \n",
    "  > **Class 및 Instace**\n",
    "  \n"
   ]
  },
  {
   "cell_type": "markdown",
   "metadata": {},
   "source": [
    " ****\n",
    "\n",
    "#### 1) 데이터 타입\n",
    "* List\n",
    "* Tuple\n",
    "* Dictionery"
   ]
  },
  {
   "cell_type": "code",
   "execution_count": 7,
   "metadata": {},
   "outputs": [
    {
     "data": {
      "text/plain": [
       "'Jimin'"
      ]
     },
     "execution_count": 7,
     "metadata": {},
     "output_type": "execute_result"
    }
   ],
   "source": [
    "##########################################\n",
    "# List 생성\n",
    "########################################## \n",
    "\n",
    "age = [10, 22, 23, 9, 18, 15]\n",
    "name = ['Tom', 'Jun', 'Jimin']\n",
    "\n",
    "target = 10\n",
    "target in age ## True\n",
    "\n",
    "# 두 리스트 객체간 결합\n",
    "age.extend(name)\n",
    "\n",
    "# 가장 마지막 데이터를 추출후 삭제\n",
    "age.pop()"
   ]
  },
  {
   "cell_type": "code",
   "execution_count": 32,
   "metadata": {},
   "outputs": [
    {
     "data": {
      "text/plain": [
       "(('Angry', 'No..'), ('Joy', 'Find!'))"
      ]
     },
     "execution_count": 32,
     "metadata": {},
     "output_type": "execute_result"
    }
   ],
   "source": [
    "##########################################\n",
    "# Tuple 생성\n",
    "########################################## \n",
    "\n",
    "feeling = ['Joy', 'Sad', 'Angry', 'Happy']\n",
    "\n",
    "def isFind (feel):\n",
    "    \n",
    "    if feel == 'Joy' or feel == 'Happy':\n",
    "        return feel, 'Find!'\n",
    "    else:\n",
    "        return feel, 'No..' # Tuple을 이용한 Multi-Return\n",
    "    \n",
    "good = isFind(feeling[0])\n",
    "bad = isFind(feeling[2])\n",
    "\n",
    "# unpacking\n",
    "good, bad = bad, good\n",
    "good, bad"
   ]
  },
  {
   "cell_type": "code",
   "execution_count": 31,
   "metadata": {
    "scrolled": true
   },
   "outputs": [
    {
     "name": "stdout",
     "output_type": "stream",
     "text": [
      "Jimin\n",
      "dict_keys(['name_one', 'age_one', 'name_two', 'age_two'])\n",
      "dict_values(['Taehyeong', 12, 'Jimin', 12])\n",
      "dict_items([('name_one', 'Taehyeong'), ('age_one', 12), ('name_two', 'Jimin'), ('age_two', 12)])\n"
     ]
    }
   ],
   "source": [
    "##########################################\n",
    "# Dictionery 생성\n",
    "########################################## \n",
    "\n",
    "one = {'name_one' : 'Taehyeong', 'age_one' : 12}\n",
    "two = {'name_two' : 'Jimin', 'age_two' : 12}\n",
    "\n",
    "one.update(two)\n",
    "\n",
    "# Dict에 없는 Key 값을 가져오려고 할 경우, 오류 발생 -> 가능하다면 get을 이용해 가져오도록 함\n",
    "print(one.get('name_two'))\n",
    "\n",
    "# Dict의 In은 성능에 상관없이 우수함\n",
    "'age_one' in one \n",
    "\n",
    "print(one.keys()) # key 값만\n",
    "print(one.values()) # value 값만\n",
    "print(one.items()) # Key-value"
   ]
  },
  {
   "cell_type": "markdown",
   "metadata": {},
   "source": [
    " ****\n",
    "\n",
    "#### 2) 함수 (Function)\n",
    "* Parameter\n",
    "* Lambda"
   ]
  },
  {
   "cell_type": "code",
   "execution_count": 49,
   "metadata": {
    "scrolled": true
   },
   "outputs": [
    {
     "name": "stdout",
     "output_type": "stream",
     "text": [
      "9\n",
      "18\n",
      "27\n",
      "name Taehyeong\n",
      "age 12\n"
     ]
    },
    {
     "data": {
      "text/plain": [
       "'우리반 멋쟁이는 Taehyeong 라는 친구이며, 나이는 12살 입니다.'"
      ]
     },
     "execution_count": 49,
     "metadata": {},
     "output_type": "execute_result"
    }
   ],
   "source": [
    "###################################\n",
    "## 1) Default Parameter\n",
    "###################################\n",
    "\n",
    "# 일반 변수 앞에는 올 수 없음\n",
    "def defalut_params (a, b, c=3):\n",
    "    return a, b, c\n",
    "\n",
    "###################################\n",
    "## 2) keyword Parameter\n",
    "###################################\n",
    "\n",
    "# 함수 호출 시, 특정 Keyword 파라미터 이름 명시\n",
    "defalut_params(a=2, b=3)\n",
    "\n",
    "\n",
    "###################################\n",
    "# 3) 동적 인자\n",
    "###################################\n",
    "\n",
    "# A. *args : Tuple 형태로 받음\n",
    "# B. **kwargs : Dict 형태로 받음\n",
    "\n",
    "def args_test (*args):\n",
    "    for item in args:\n",
    "        print(item * 3)\n",
    "        \n",
    "args_test(3,6,9)\n",
    "\n",
    "def kwargs_test (**kwargs):\n",
    "    for key, value in kwargs.items():\n",
    "        print(key, value)\n",
    "\n",
    "handsome_boy = {'name' : 'Taehyeong', 'age' : 12}\n",
    "        \n",
    "kwargs_test(name='Taehyeong', age=12)\n",
    "\n",
    "\"우리반 멋쟁이는 {name} 라는 친구이며, 나이는 {age}살 입니다.\".format(name=handsome_boy.get('name'), age=handsome_boy.get('age'))"
   ]
  },
  {
   "cell_type": "code",
   "execution_count": 59,
   "metadata": {},
   "outputs": [
    {
     "data": {
      "text/plain": [
       "17"
      ]
     },
     "execution_count": 59,
     "metadata": {},
     "output_type": "execute_result"
    }
   ],
   "source": [
    "###################################\n",
    "## Lambda \n",
    "###################################\n",
    "\n",
    "# 익명 함수로 1회성 사용에 주로 사용\n",
    "square = lambda x:x**2\n",
    "square(2)\n",
    "\n",
    "###################################\n",
    "## [Lambda] Filter \n",
    "###################################\n",
    "\n",
    "# 원하는 조건을 만족하는 데이터만 추출\n",
    "# filter(function, iterator)\n",
    "\n",
    "list(filter(lambda x:x>2, [1,2,3,4]))\n",
    "\n",
    "###################################\n",
    "## [Lambda] map \n",
    "###################################\n",
    "\n",
    "# 각 원소를 주어진 조건에 따라 적용하여 리스트 반환\n",
    "\n",
    "list(map(lambda x:len(x) > 2, ['go', 'stop', 'start']))\n",
    "# [False, True, True]\n",
    "\n",
    "###################################\n",
    "## [Lambda] reduce\n",
    "###################################\n",
    "\n",
    "# 두 원소를 가지고 계산을 한 후, 계산값이 다음 인자로 옴\n",
    "# filter, map과 다르게 내장 함수가 아님\n",
    "\n",
    "import functools\n",
    "a = [1, 3, 5, 8]\n",
    "\n",
    "functools.reduce(lambda x,y:x+y, a) # 1+3= 4, 4+5= 9, 9+8 = 17"
   ]
  }
 ],
 "metadata": {
  "kernelspec": {
   "display_name": "Python 3",
   "language": "python",
   "name": "python3"
  },
  "language_info": {
   "codemirror_mode": {
    "name": "ipython",
    "version": 3
   },
   "file_extension": ".py",
   "mimetype": "text/x-python",
   "name": "python",
   "nbconvert_exporter": "python",
   "pygments_lexer": "ipython3",
   "version": "3.7.3"
  }
 },
 "nbformat": 4,
 "nbformat_minor": 2
}
